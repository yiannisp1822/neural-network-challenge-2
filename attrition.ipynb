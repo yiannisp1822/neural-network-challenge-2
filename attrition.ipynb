{
 "cells": [
  {
   "cell_type": "markdown",
   "metadata": {
    "id": "alIIEHibGc3M"
   },
   "source": [
    "## Part 1: Preprocessing"
   ]
  },
  {
   "cell_type": "code",
   "execution_count": 1,
   "metadata": {
    "colab": {
     "base_uri": "https://localhost:8080/",
     "height": 325
    },
    "executionInfo": {
     "elapsed": 12323,
     "status": "ok",
     "timestamp": 1730699226906,
     "user": {
      "displayName": "Alexander Booth",
      "userId": "02269714993535573104"
     },
     "user_tz": 360
    },
    "id": "6eDUJ4NtGc3P",
    "outputId": "eeae54b5-3d17-442d-94ba-00dd55b89964"
   },
   "outputs": [
    {
     "data": {
      "text/html": [
       "<div>\n",
       "<style scoped>\n",
       "    .dataframe tbody tr th:only-of-type {\n",
       "        vertical-align: middle;\n",
       "    }\n",
       "\n",
       "    .dataframe tbody tr th {\n",
       "        vertical-align: top;\n",
       "    }\n",
       "\n",
       "    .dataframe thead th {\n",
       "        text-align: right;\n",
       "    }\n",
       "</style>\n",
       "<table border=\"1\" class=\"dataframe\">\n",
       "  <thead>\n",
       "    <tr style=\"text-align: right;\">\n",
       "      <th></th>\n",
       "      <th>Age</th>\n",
       "      <th>Attrition</th>\n",
       "      <th>BusinessTravel</th>\n",
       "      <th>Department</th>\n",
       "      <th>DistanceFromHome</th>\n",
       "      <th>Education</th>\n",
       "      <th>EducationField</th>\n",
       "      <th>EnvironmentSatisfaction</th>\n",
       "      <th>HourlyRate</th>\n",
       "      <th>JobInvolvement</th>\n",
       "      <th>...</th>\n",
       "      <th>PerformanceRating</th>\n",
       "      <th>RelationshipSatisfaction</th>\n",
       "      <th>StockOptionLevel</th>\n",
       "      <th>TotalWorkingYears</th>\n",
       "      <th>TrainingTimesLastYear</th>\n",
       "      <th>WorkLifeBalance</th>\n",
       "      <th>YearsAtCompany</th>\n",
       "      <th>YearsInCurrentRole</th>\n",
       "      <th>YearsSinceLastPromotion</th>\n",
       "      <th>YearsWithCurrManager</th>\n",
       "    </tr>\n",
       "  </thead>\n",
       "  <tbody>\n",
       "    <tr>\n",
       "      <th>0</th>\n",
       "      <td>41</td>\n",
       "      <td>Yes</td>\n",
       "      <td>Travel_Rarely</td>\n",
       "      <td>Sales</td>\n",
       "      <td>1</td>\n",
       "      <td>2</td>\n",
       "      <td>Life Sciences</td>\n",
       "      <td>2</td>\n",
       "      <td>94</td>\n",
       "      <td>3</td>\n",
       "      <td>...</td>\n",
       "      <td>3</td>\n",
       "      <td>1</td>\n",
       "      <td>0</td>\n",
       "      <td>8</td>\n",
       "      <td>0</td>\n",
       "      <td>1</td>\n",
       "      <td>6</td>\n",
       "      <td>4</td>\n",
       "      <td>0</td>\n",
       "      <td>5</td>\n",
       "    </tr>\n",
       "    <tr>\n",
       "      <th>1</th>\n",
       "      <td>49</td>\n",
       "      <td>No</td>\n",
       "      <td>Travel_Frequently</td>\n",
       "      <td>Research &amp; Development</td>\n",
       "      <td>8</td>\n",
       "      <td>1</td>\n",
       "      <td>Life Sciences</td>\n",
       "      <td>3</td>\n",
       "      <td>61</td>\n",
       "      <td>2</td>\n",
       "      <td>...</td>\n",
       "      <td>4</td>\n",
       "      <td>4</td>\n",
       "      <td>1</td>\n",
       "      <td>10</td>\n",
       "      <td>3</td>\n",
       "      <td>3</td>\n",
       "      <td>10</td>\n",
       "      <td>7</td>\n",
       "      <td>1</td>\n",
       "      <td>7</td>\n",
       "    </tr>\n",
       "    <tr>\n",
       "      <th>2</th>\n",
       "      <td>37</td>\n",
       "      <td>Yes</td>\n",
       "      <td>Travel_Rarely</td>\n",
       "      <td>Research &amp; Development</td>\n",
       "      <td>2</td>\n",
       "      <td>2</td>\n",
       "      <td>Other</td>\n",
       "      <td>4</td>\n",
       "      <td>92</td>\n",
       "      <td>2</td>\n",
       "      <td>...</td>\n",
       "      <td>3</td>\n",
       "      <td>2</td>\n",
       "      <td>0</td>\n",
       "      <td>7</td>\n",
       "      <td>3</td>\n",
       "      <td>3</td>\n",
       "      <td>0</td>\n",
       "      <td>0</td>\n",
       "      <td>0</td>\n",
       "      <td>0</td>\n",
       "    </tr>\n",
       "    <tr>\n",
       "      <th>3</th>\n",
       "      <td>33</td>\n",
       "      <td>No</td>\n",
       "      <td>Travel_Frequently</td>\n",
       "      <td>Research &amp; Development</td>\n",
       "      <td>3</td>\n",
       "      <td>4</td>\n",
       "      <td>Life Sciences</td>\n",
       "      <td>4</td>\n",
       "      <td>56</td>\n",
       "      <td>3</td>\n",
       "      <td>...</td>\n",
       "      <td>3</td>\n",
       "      <td>3</td>\n",
       "      <td>0</td>\n",
       "      <td>8</td>\n",
       "      <td>3</td>\n",
       "      <td>3</td>\n",
       "      <td>8</td>\n",
       "      <td>7</td>\n",
       "      <td>3</td>\n",
       "      <td>0</td>\n",
       "    </tr>\n",
       "    <tr>\n",
       "      <th>4</th>\n",
       "      <td>27</td>\n",
       "      <td>No</td>\n",
       "      <td>Travel_Rarely</td>\n",
       "      <td>Research &amp; Development</td>\n",
       "      <td>2</td>\n",
       "      <td>1</td>\n",
       "      <td>Medical</td>\n",
       "      <td>1</td>\n",
       "      <td>40</td>\n",
       "      <td>3</td>\n",
       "      <td>...</td>\n",
       "      <td>3</td>\n",
       "      <td>4</td>\n",
       "      <td>1</td>\n",
       "      <td>6</td>\n",
       "      <td>3</td>\n",
       "      <td>3</td>\n",
       "      <td>2</td>\n",
       "      <td>2</td>\n",
       "      <td>2</td>\n",
       "      <td>2</td>\n",
       "    </tr>\n",
       "  </tbody>\n",
       "</table>\n",
       "<p>5 rows × 27 columns</p>\n",
       "</div>"
      ],
      "text/plain": [
       "   Age Attrition     BusinessTravel              Department  DistanceFromHome  \\\n",
       "0   41       Yes      Travel_Rarely                   Sales                 1   \n",
       "1   49        No  Travel_Frequently  Research & Development                 8   \n",
       "2   37       Yes      Travel_Rarely  Research & Development                 2   \n",
       "3   33        No  Travel_Frequently  Research & Development                 3   \n",
       "4   27        No      Travel_Rarely  Research & Development                 2   \n",
       "\n",
       "   Education EducationField  EnvironmentSatisfaction  HourlyRate  \\\n",
       "0          2  Life Sciences                        2          94   \n",
       "1          1  Life Sciences                        3          61   \n",
       "2          2          Other                        4          92   \n",
       "3          4  Life Sciences                        4          56   \n",
       "4          1        Medical                        1          40   \n",
       "\n",
       "   JobInvolvement  ...  PerformanceRating RelationshipSatisfaction  \\\n",
       "0               3  ...                  3                        1   \n",
       "1               2  ...                  4                        4   \n",
       "2               2  ...                  3                        2   \n",
       "3               3  ...                  3                        3   \n",
       "4               3  ...                  3                        4   \n",
       "\n",
       "   StockOptionLevel TotalWorkingYears  TrainingTimesLastYear WorkLifeBalance  \\\n",
       "0                 0                 8                      0               1   \n",
       "1                 1                10                      3               3   \n",
       "2                 0                 7                      3               3   \n",
       "3                 0                 8                      3               3   \n",
       "4                 1                 6                      3               3   \n",
       "\n",
       "   YearsAtCompany  YearsInCurrentRole  YearsSinceLastPromotion  \\\n",
       "0               6                   4                        0   \n",
       "1              10                   7                        1   \n",
       "2               0                   0                        0   \n",
       "3               8                   7                        3   \n",
       "4               2                   2                        2   \n",
       "\n",
       "   YearsWithCurrManager  \n",
       "0                     5  \n",
       "1                     7  \n",
       "2                     0  \n",
       "3                     0  \n",
       "4                     2  \n",
       "\n",
       "[5 rows x 27 columns]"
      ]
     },
     "execution_count": 1,
     "metadata": {},
     "output_type": "execute_result"
    }
   ],
   "source": [
    "# Import our dependencies\n",
    "from sklearn.model_selection import train_test_split\n",
    "from sklearn.preprocessing import StandardScaler\n",
    "import pandas as pd\n",
    "import numpy as np\n",
    "from tensorflow.keras.models import Model\n",
    "from tensorflow.keras import layers\n",
    "\n",
    "#  Import and read the attrition data\n",
    "attrition_df = pd.read_csv('https://static.bc-edx.com/ai/ail-v-1-0/m19/lms/datasets/attrition.csv')\n",
    "attrition_df.head()"
   ]
  },
  {
   "cell_type": "code",
   "execution_count": 2,
   "metadata": {
    "colab": {
     "base_uri": "https://localhost:8080/",
     "height": 930
    },
    "executionInfo": {
     "elapsed": 10,
     "status": "ok",
     "timestamp": 1730699226906,
     "user": {
      "displayName": "Alexander Booth",
      "userId": "02269714993535573104"
     },
     "user_tz": 360
    },
    "id": "g22aQSY4Gc3Q",
    "outputId": "e8b68509-45d8-42e0-a9db-1bdce48e4b2d"
   },
   "outputs": [
    {
     "data": {
      "text/plain": [
       "Age                         43\n",
       "Attrition                    2\n",
       "BusinessTravel               3\n",
       "Department                   3\n",
       "DistanceFromHome            29\n",
       "Education                    5\n",
       "EducationField               6\n",
       "EnvironmentSatisfaction      4\n",
       "HourlyRate                  71\n",
       "JobInvolvement               4\n",
       "JobLevel                     5\n",
       "JobRole                      9\n",
       "JobSatisfaction              4\n",
       "MaritalStatus                3\n",
       "NumCompaniesWorked          10\n",
       "OverTime                     2\n",
       "PercentSalaryHike           15\n",
       "PerformanceRating            2\n",
       "RelationshipSatisfaction     4\n",
       "StockOptionLevel             4\n",
       "TotalWorkingYears           40\n",
       "TrainingTimesLastYear        7\n",
       "WorkLifeBalance              4\n",
       "YearsAtCompany              37\n",
       "YearsInCurrentRole          19\n",
       "YearsSinceLastPromotion     16\n",
       "YearsWithCurrManager        18\n",
       "dtype: int64"
      ]
     },
     "execution_count": 2,
     "metadata": {},
     "output_type": "execute_result"
    }
   ],
   "source": [
    "# Determine the number of unique values in each column\n",
    "attrition_df.nunique()"
   ]
  },
  {
   "cell_type": "code",
   "execution_count": 3,
   "metadata": {
    "executionInfo": {
     "elapsed": 7,
     "status": "ok",
     "timestamp": 1730699226906,
     "user": {
      "displayName": "Alexander Booth",
      "userId": "02269714993535573104"
     },
     "user_tz": 360
    },
    "id": "50vMgBEnJbfM"
   },
   "outputs": [],
   "source": [
    "# Create y_df with the Attrition and Department columns\n",
    "y_df = attrition_df[['Attrition', 'Department']]"
   ]
  },
  {
   "cell_type": "code",
   "execution_count": 4,
   "metadata": {
    "colab": {
     "base_uri": "https://localhost:8080/",
     "height": 397
    },
    "executionInfo": {
     "elapsed": 125,
     "status": "ok",
     "timestamp": 1730699227025,
     "user": {
      "displayName": "Alexander Booth",
      "userId": "02269714993535573104"
     },
     "user_tz": 360
    },
    "id": "Virka0zLGc3R",
    "outputId": "24f181c9-7e2e-42cb-94e8-a75842f1ab01"
   },
   "outputs": [
    {
     "data": {
      "text/plain": [
       "Age                         int64\n",
       "DistanceFromHome            int64\n",
       "Education                   int64\n",
       "OverTime                   object\n",
       "StockOptionLevel            int64\n",
       "WorkLifeBalance             int64\n",
       "YearsAtCompany              int64\n",
       "JobSatisfaction             int64\n",
       "NumCompaniesWorked          int64\n",
       "YearsSinceLastPromotion     int64\n",
       "dtype: object"
      ]
     },
     "execution_count": 4,
     "metadata": {},
     "output_type": "execute_result"
    }
   ],
   "source": [
    "# Create a list of at least 10 column names to use as X data\n",
    "x = ['Age', 'DistanceFromHome', 'Education', 'OverTime', 'StockOptionLevel', 'WorkLifeBalance', 'YearsAtCompany', 'JobSatisfaction', 'NumCompaniesWorked', 'YearsSinceLastPromotion']\n",
    "\n",
    "# Create X_df using your selected columns\n",
    "X_df = attrition_df[x]\n",
    "\n",
    "# Show the data types for X_df\n",
    "X_df.dtypes\n"
   ]
  },
  {
   "cell_type": "code",
   "execution_count": 5,
   "metadata": {
    "executionInfo": {
     "elapsed": 9,
     "status": "ok",
     "timestamp": 1730699227025,
     "user": {
      "displayName": "Alexander Booth",
      "userId": "02269714993535573104"
     },
     "user_tz": 360
    },
    "id": "KaJfdOGUMHMR"
   },
   "outputs": [],
   "source": [
    "# Split the data into training and testing sets\n",
    "from sklearn.model_selection import train_test_split\n",
    "X_train, X_test, y_train, y_test = train_test_split(X_df, y_df, test_size=0.2, random_state=42)"
   ]
  },
  {
   "cell_type": "code",
   "execution_count": 6,
   "metadata": {
    "colab": {
     "base_uri": "https://localhost:8080/",
     "height": 178
    },
    "executionInfo": {
     "elapsed": 8,
     "status": "ok",
     "timestamp": 1730699227025,
     "user": {
      "displayName": "Alexander Booth",
      "userId": "02269714993535573104"
     },
     "user_tz": 360
    },
    "id": "NYubUJqiLCSp",
    "outputId": "6116187c-4afa-4d4a-aeb9-fdc2131d0d58"
   },
   "outputs": [
    {
     "name": "stderr",
     "output_type": "stream",
     "text": [
      "/var/folders/v3/3x37jm396m15n05th_799pjw0000gn/T/ipykernel_50922/1877049354.py:2: FutureWarning: Downcasting behavior in `replace` is deprecated and will be removed in a future version. To retain the old behavior, explicitly call `result.infer_objects(copy=False)`. To opt-in to the future behavior, set `pd.set_option('future.no_silent_downcasting', True)`\n",
      "  X_train['OverTime'] = X_train['OverTime'].replace({'Yes': 1, 'No': 0})\n"
     ]
    }
   ],
   "source": [
    "# Convert the 'OverTime' column to numeric values\n",
    "X_train['OverTime'] = X_train['OverTime'].replace({'Yes': 1, 'No': 0})\n"
   ]
  },
  {
   "cell_type": "code",
   "execution_count": 7,
   "metadata": {},
   "outputs": [
    {
     "data": {
      "text/html": [
       "<div>\n",
       "<style scoped>\n",
       "    .dataframe tbody tr th:only-of-type {\n",
       "        vertical-align: middle;\n",
       "    }\n",
       "\n",
       "    .dataframe tbody tr th {\n",
       "        vertical-align: top;\n",
       "    }\n",
       "\n",
       "    .dataframe thead th {\n",
       "        text-align: right;\n",
       "    }\n",
       "</style>\n",
       "<table border=\"1\" class=\"dataframe\">\n",
       "  <thead>\n",
       "    <tr style=\"text-align: right;\">\n",
       "      <th></th>\n",
       "      <th>Age</th>\n",
       "      <th>DistanceFromHome</th>\n",
       "      <th>Education</th>\n",
       "      <th>OverTime</th>\n",
       "      <th>StockOptionLevel</th>\n",
       "      <th>WorkLifeBalance</th>\n",
       "      <th>YearsAtCompany</th>\n",
       "      <th>JobSatisfaction</th>\n",
       "      <th>NumCompaniesWorked</th>\n",
       "      <th>YearsSinceLastPromotion</th>\n",
       "    </tr>\n",
       "  </thead>\n",
       "  <tbody>\n",
       "    <tr>\n",
       "      <th>1097</th>\n",
       "      <td>24</td>\n",
       "      <td>21</td>\n",
       "      <td>2</td>\n",
       "      <td>0</td>\n",
       "      <td>3</td>\n",
       "      <td>3</td>\n",
       "      <td>1</td>\n",
       "      <td>1</td>\n",
       "      <td>0</td>\n",
       "      <td>0</td>\n",
       "    </tr>\n",
       "    <tr>\n",
       "      <th>727</th>\n",
       "      <td>18</td>\n",
       "      <td>5</td>\n",
       "      <td>2</td>\n",
       "      <td>0</td>\n",
       "      <td>0</td>\n",
       "      <td>3</td>\n",
       "      <td>0</td>\n",
       "      <td>4</td>\n",
       "      <td>1</td>\n",
       "      <td>0</td>\n",
       "    </tr>\n",
       "    <tr>\n",
       "      <th>254</th>\n",
       "      <td>29</td>\n",
       "      <td>20</td>\n",
       "      <td>2</td>\n",
       "      <td>0</td>\n",
       "      <td>1</td>\n",
       "      <td>3</td>\n",
       "      <td>3</td>\n",
       "      <td>4</td>\n",
       "      <td>2</td>\n",
       "      <td>0</td>\n",
       "    </tr>\n",
       "    <tr>\n",
       "      <th>1175</th>\n",
       "      <td>39</td>\n",
       "      <td>12</td>\n",
       "      <td>3</td>\n",
       "      <td>0</td>\n",
       "      <td>0</td>\n",
       "      <td>3</td>\n",
       "      <td>5</td>\n",
       "      <td>2</td>\n",
       "      <td>4</td>\n",
       "      <td>1</td>\n",
       "    </tr>\n",
       "    <tr>\n",
       "      <th>1341</th>\n",
       "      <td>31</td>\n",
       "      <td>20</td>\n",
       "      <td>3</td>\n",
       "      <td>0</td>\n",
       "      <td>1</td>\n",
       "      <td>3</td>\n",
       "      <td>10</td>\n",
       "      <td>3</td>\n",
       "      <td>1</td>\n",
       "      <td>0</td>\n",
       "    </tr>\n",
       "    <tr>\n",
       "      <th>...</th>\n",
       "      <td>...</td>\n",
       "      <td>...</td>\n",
       "      <td>...</td>\n",
       "      <td>...</td>\n",
       "      <td>...</td>\n",
       "      <td>...</td>\n",
       "      <td>...</td>\n",
       "      <td>...</td>\n",
       "      <td>...</td>\n",
       "      <td>...</td>\n",
       "    </tr>\n",
       "    <tr>\n",
       "      <th>1130</th>\n",
       "      <td>35</td>\n",
       "      <td>28</td>\n",
       "      <td>3</td>\n",
       "      <td>0</td>\n",
       "      <td>2</td>\n",
       "      <td>2</td>\n",
       "      <td>10</td>\n",
       "      <td>3</td>\n",
       "      <td>1</td>\n",
       "      <td>6</td>\n",
       "    </tr>\n",
       "    <tr>\n",
       "      <th>1294</th>\n",
       "      <td>41</td>\n",
       "      <td>5</td>\n",
       "      <td>3</td>\n",
       "      <td>0</td>\n",
       "      <td>0</td>\n",
       "      <td>1</td>\n",
       "      <td>3</td>\n",
       "      <td>2</td>\n",
       "      <td>3</td>\n",
       "      <td>1</td>\n",
       "    </tr>\n",
       "    <tr>\n",
       "      <th>860</th>\n",
       "      <td>22</td>\n",
       "      <td>3</td>\n",
       "      <td>4</td>\n",
       "      <td>1</td>\n",
       "      <td>1</td>\n",
       "      <td>3</td>\n",
       "      <td>0</td>\n",
       "      <td>4</td>\n",
       "      <td>0</td>\n",
       "      <td>0</td>\n",
       "    </tr>\n",
       "    <tr>\n",
       "      <th>1459</th>\n",
       "      <td>29</td>\n",
       "      <td>13</td>\n",
       "      <td>2</td>\n",
       "      <td>1</td>\n",
       "      <td>1</td>\n",
       "      <td>3</td>\n",
       "      <td>4</td>\n",
       "      <td>2</td>\n",
       "      <td>4</td>\n",
       "      <td>0</td>\n",
       "    </tr>\n",
       "    <tr>\n",
       "      <th>1126</th>\n",
       "      <td>50</td>\n",
       "      <td>9</td>\n",
       "      <td>3</td>\n",
       "      <td>1</td>\n",
       "      <td>1</td>\n",
       "      <td>3</td>\n",
       "      <td>1</td>\n",
       "      <td>3</td>\n",
       "      <td>4</td>\n",
       "      <td>0</td>\n",
       "    </tr>\n",
       "  </tbody>\n",
       "</table>\n",
       "<p>1176 rows × 10 columns</p>\n",
       "</div>"
      ],
      "text/plain": [
       "      Age  DistanceFromHome  Education  OverTime  StockOptionLevel  \\\n",
       "1097   24                21          2         0                 3   \n",
       "727    18                 5          2         0                 0   \n",
       "254    29                20          2         0                 1   \n",
       "1175   39                12          3         0                 0   \n",
       "1341   31                20          3         0                 1   \n",
       "...   ...               ...        ...       ...               ...   \n",
       "1130   35                28          3         0                 2   \n",
       "1294   41                 5          3         0                 0   \n",
       "860    22                 3          4         1                 1   \n",
       "1459   29                13          2         1                 1   \n",
       "1126   50                 9          3         1                 1   \n",
       "\n",
       "      WorkLifeBalance  YearsAtCompany  JobSatisfaction  NumCompaniesWorked  \\\n",
       "1097                3               1                1                   0   \n",
       "727                 3               0                4                   1   \n",
       "254                 3               3                4                   2   \n",
       "1175                3               5                2                   4   \n",
       "1341                3              10                3                   1   \n",
       "...               ...             ...              ...                 ...   \n",
       "1130                2              10                3                   1   \n",
       "1294                1               3                2                   3   \n",
       "860                 3               0                4                   0   \n",
       "1459                3               4                2                   4   \n",
       "1126                3               1                3                   4   \n",
       "\n",
       "      YearsSinceLastPromotion  \n",
       "1097                        0  \n",
       "727                         0  \n",
       "254                         0  \n",
       "1175                        1  \n",
       "1341                        0  \n",
       "...                       ...  \n",
       "1130                        6  \n",
       "1294                        1  \n",
       "860                         0  \n",
       "1459                        0  \n",
       "1126                        0  \n",
       "\n",
       "[1176 rows x 10 columns]"
      ]
     },
     "execution_count": 7,
     "metadata": {},
     "output_type": "execute_result"
    }
   ],
   "source": [
    "X_train"
   ]
  },
  {
   "cell_type": "code",
   "execution_count": 8,
   "metadata": {},
   "outputs": [
    {
     "name": "stderr",
     "output_type": "stream",
     "text": [
      "/var/folders/v3/3x37jm396m15n05th_799pjw0000gn/T/ipykernel_50922/2177517595.py:1: FutureWarning: Downcasting behavior in `replace` is deprecated and will be removed in a future version. To retain the old behavior, explicitly call `result.infer_objects(copy=False)`. To opt-in to the future behavior, set `pd.set_option('future.no_silent_downcasting', True)`\n",
      "  X_test['OverTime'] = X_test['OverTime'].replace({'Yes': 1, 'No': 0})\n"
     ]
    }
   ],
   "source": [
    "X_test['OverTime'] = X_test['OverTime'].replace({'Yes': 1, 'No': 0})"
   ]
  },
  {
   "cell_type": "code",
   "execution_count": 9,
   "metadata": {},
   "outputs": [
    {
     "data": {
      "text/html": [
       "<div>\n",
       "<style scoped>\n",
       "    .dataframe tbody tr th:only-of-type {\n",
       "        vertical-align: middle;\n",
       "    }\n",
       "\n",
       "    .dataframe tbody tr th {\n",
       "        vertical-align: top;\n",
       "    }\n",
       "\n",
       "    .dataframe thead th {\n",
       "        text-align: right;\n",
       "    }\n",
       "</style>\n",
       "<table border=\"1\" class=\"dataframe\">\n",
       "  <thead>\n",
       "    <tr style=\"text-align: right;\">\n",
       "      <th></th>\n",
       "      <th>Age</th>\n",
       "      <th>DistanceFromHome</th>\n",
       "      <th>Education</th>\n",
       "      <th>OverTime</th>\n",
       "      <th>StockOptionLevel</th>\n",
       "      <th>WorkLifeBalance</th>\n",
       "      <th>YearsAtCompany</th>\n",
       "      <th>JobSatisfaction</th>\n",
       "      <th>NumCompaniesWorked</th>\n",
       "      <th>YearsSinceLastPromotion</th>\n",
       "    </tr>\n",
       "  </thead>\n",
       "  <tbody>\n",
       "    <tr>\n",
       "      <th>1041</th>\n",
       "      <td>28</td>\n",
       "      <td>5</td>\n",
       "      <td>3</td>\n",
       "      <td>0</td>\n",
       "      <td>0</td>\n",
       "      <td>3</td>\n",
       "      <td>5</td>\n",
       "      <td>1</td>\n",
       "      <td>0</td>\n",
       "      <td>1</td>\n",
       "    </tr>\n",
       "    <tr>\n",
       "      <th>184</th>\n",
       "      <td>53</td>\n",
       "      <td>13</td>\n",
       "      <td>2</td>\n",
       "      <td>0</td>\n",
       "      <td>2</td>\n",
       "      <td>3</td>\n",
       "      <td>4</td>\n",
       "      <td>1</td>\n",
       "      <td>1</td>\n",
       "      <td>1</td>\n",
       "    </tr>\n",
       "    <tr>\n",
       "      <th>1222</th>\n",
       "      <td>24</td>\n",
       "      <td>22</td>\n",
       "      <td>1</td>\n",
       "      <td>0</td>\n",
       "      <td>1</td>\n",
       "      <td>3</td>\n",
       "      <td>1</td>\n",
       "      <td>3</td>\n",
       "      <td>1</td>\n",
       "      <td>0</td>\n",
       "    </tr>\n",
       "    <tr>\n",
       "      <th>67</th>\n",
       "      <td>45</td>\n",
       "      <td>7</td>\n",
       "      <td>3</td>\n",
       "      <td>0</td>\n",
       "      <td>1</td>\n",
       "      <td>3</td>\n",
       "      <td>1</td>\n",
       "      <td>1</td>\n",
       "      <td>2</td>\n",
       "      <td>0</td>\n",
       "    </tr>\n",
       "    <tr>\n",
       "      <th>220</th>\n",
       "      <td>36</td>\n",
       "      <td>5</td>\n",
       "      <td>2</td>\n",
       "      <td>0</td>\n",
       "      <td>0</td>\n",
       "      <td>4</td>\n",
       "      <td>13</td>\n",
       "      <td>2</td>\n",
       "      <td>8</td>\n",
       "      <td>3</td>\n",
       "    </tr>\n",
       "    <tr>\n",
       "      <th>...</th>\n",
       "      <td>...</td>\n",
       "      <td>...</td>\n",
       "      <td>...</td>\n",
       "      <td>...</td>\n",
       "      <td>...</td>\n",
       "      <td>...</td>\n",
       "      <td>...</td>\n",
       "      <td>...</td>\n",
       "      <td>...</td>\n",
       "      <td>...</td>\n",
       "    </tr>\n",
       "    <tr>\n",
       "      <th>567</th>\n",
       "      <td>34</td>\n",
       "      <td>2</td>\n",
       "      <td>3</td>\n",
       "      <td>0</td>\n",
       "      <td>0</td>\n",
       "      <td>3</td>\n",
       "      <td>6</td>\n",
       "      <td>4</td>\n",
       "      <td>1</td>\n",
       "      <td>1</td>\n",
       "    </tr>\n",
       "    <tr>\n",
       "      <th>560</th>\n",
       "      <td>34</td>\n",
       "      <td>8</td>\n",
       "      <td>5</td>\n",
       "      <td>0</td>\n",
       "      <td>1</td>\n",
       "      <td>3</td>\n",
       "      <td>0</td>\n",
       "      <td>1</td>\n",
       "      <td>3</td>\n",
       "      <td>0</td>\n",
       "    </tr>\n",
       "    <tr>\n",
       "      <th>945</th>\n",
       "      <td>50</td>\n",
       "      <td>28</td>\n",
       "      <td>3</td>\n",
       "      <td>1</td>\n",
       "      <td>0</td>\n",
       "      <td>3</td>\n",
       "      <td>3</td>\n",
       "      <td>1</td>\n",
       "      <td>4</td>\n",
       "      <td>1</td>\n",
       "    </tr>\n",
       "    <tr>\n",
       "      <th>522</th>\n",
       "      <td>37</td>\n",
       "      <td>10</td>\n",
       "      <td>2</td>\n",
       "      <td>0</td>\n",
       "      <td>0</td>\n",
       "      <td>3</td>\n",
       "      <td>1</td>\n",
       "      <td>4</td>\n",
       "      <td>3</td>\n",
       "      <td>0</td>\n",
       "    </tr>\n",
       "    <tr>\n",
       "      <th>651</th>\n",
       "      <td>47</td>\n",
       "      <td>2</td>\n",
       "      <td>2</td>\n",
       "      <td>1</td>\n",
       "      <td>1</td>\n",
       "      <td>3</td>\n",
       "      <td>7</td>\n",
       "      <td>4</td>\n",
       "      <td>0</td>\n",
       "      <td>7</td>\n",
       "    </tr>\n",
       "  </tbody>\n",
       "</table>\n",
       "<p>294 rows × 10 columns</p>\n",
       "</div>"
      ],
      "text/plain": [
       "      Age  DistanceFromHome  Education  OverTime  StockOptionLevel  \\\n",
       "1041   28                 5          3         0                 0   \n",
       "184    53                13          2         0                 2   \n",
       "1222   24                22          1         0                 1   \n",
       "67     45                 7          3         0                 1   \n",
       "220    36                 5          2         0                 0   \n",
       "...   ...               ...        ...       ...               ...   \n",
       "567    34                 2          3         0                 0   \n",
       "560    34                 8          5         0                 1   \n",
       "945    50                28          3         1                 0   \n",
       "522    37                10          2         0                 0   \n",
       "651    47                 2          2         1                 1   \n",
       "\n",
       "      WorkLifeBalance  YearsAtCompany  JobSatisfaction  NumCompaniesWorked  \\\n",
       "1041                3               5                1                   0   \n",
       "184                 3               4                1                   1   \n",
       "1222                3               1                3                   1   \n",
       "67                  3               1                1                   2   \n",
       "220                 4              13                2                   8   \n",
       "...               ...             ...              ...                 ...   \n",
       "567                 3               6                4                   1   \n",
       "560                 3               0                1                   3   \n",
       "945                 3               3                1                   4   \n",
       "522                 3               1                4                   3   \n",
       "651                 3               7                4                   0   \n",
       "\n",
       "      YearsSinceLastPromotion  \n",
       "1041                        1  \n",
       "184                         1  \n",
       "1222                        0  \n",
       "67                          0  \n",
       "220                         3  \n",
       "...                       ...  \n",
       "567                         1  \n",
       "560                         0  \n",
       "945                         1  \n",
       "522                         0  \n",
       "651                         7  \n",
       "\n",
       "[294 rows x 10 columns]"
      ]
     },
     "execution_count": 9,
     "metadata": {},
     "output_type": "execute_result"
    }
   ],
   "source": [
    "X_test"
   ]
  },
  {
   "cell_type": "code",
   "execution_count": 10,
   "metadata": {},
   "outputs": [
    {
     "data": {
      "text/plain": [
       "Age                        int64\n",
       "DistanceFromHome           int64\n",
       "Education                  int64\n",
       "OverTime                   int64\n",
       "StockOptionLevel           int64\n",
       "WorkLifeBalance            int64\n",
       "YearsAtCompany             int64\n",
       "JobSatisfaction            int64\n",
       "NumCompaniesWorked         int64\n",
       "YearsSinceLastPromotion    int64\n",
       "dtype: object"
      ]
     },
     "execution_count": 10,
     "metadata": {},
     "output_type": "execute_result"
    }
   ],
   "source": [
    "X_test.dtypes"
   ]
  },
  {
   "cell_type": "code",
   "execution_count": 11,
   "metadata": {},
   "outputs": [
    {
     "data": {
      "text/plain": [
       "Age                        int64\n",
       "DistanceFromHome           int64\n",
       "Education                  int64\n",
       "OverTime                   int64\n",
       "StockOptionLevel           int64\n",
       "WorkLifeBalance            int64\n",
       "YearsAtCompany             int64\n",
       "JobSatisfaction            int64\n",
       "NumCompaniesWorked         int64\n",
       "YearsSinceLastPromotion    int64\n",
       "dtype: object"
      ]
     },
     "execution_count": 11,
     "metadata": {},
     "output_type": "execute_result"
    }
   ],
   "source": [
    "X_train.dtypes"
   ]
  },
  {
   "cell_type": "code",
   "execution_count": 12,
   "metadata": {
    "executionInfo": {
     "elapsed": 6,
     "status": "ok",
     "timestamp": 1730699227162,
     "user": {
      "displayName": "Alexander Booth",
      "userId": "02269714993535573104"
     },
     "user_tz": 360
    },
    "id": "EWA-aIA5Gc3T"
   },
   "outputs": [],
   "source": [
    "#Scale the data\n",
    "# Create a StandardScaler\n",
    "scaler = StandardScaler()\n",
    "\n",
    "# Fit the StandardScaler to the training data\n",
    "scaler.fit(X_train)\n",
    "\n",
    "# Scale the training and testing data\n",
    "X_train_scaled = scaler.transform(X_train)\n",
    "X_test_scaled = scaler.transform(X_test)\n",
    "\n",
    "\n"
   ]
  },
  {
   "cell_type": "code",
   "execution_count": 13,
   "metadata": {},
   "outputs": [
    {
     "data": {
      "text/plain": [
       "array([[-0.95377387, -0.52269928,  0.09993302, ..., -1.58233648,\n",
       "        -1.05916816, -0.35524399],\n",
       "       [ 1.76363593,  0.45884859, -0.86335572, ..., -1.58233648,\n",
       "        -0.65943075, -0.35524399],\n",
       "       [-1.38855944,  1.56308993, -1.82664446, ...,  0.24111056,\n",
       "        -0.65943075, -0.67610953],\n",
       "       ...,\n",
       "       [ 1.43754676,  2.29925083,  0.09993302, ..., -1.58233648,\n",
       "         0.53978146, -0.35524399],\n",
       "       [ 0.02449366,  0.09076814, -0.86335572, ...,  1.15283407,\n",
       "         0.14004406, -0.67610953],\n",
       "       [ 1.11145758, -0.89077972, -0.86335572, ...,  1.15283407,\n",
       "        -1.05916816,  1.56994925]])"
      ]
     },
     "execution_count": 13,
     "metadata": {},
     "output_type": "execute_result"
    }
   ],
   "source": [
    "X_test_scaled"
   ]
  },
  {
   "cell_type": "code",
   "execution_count": 14,
   "metadata": {},
   "outputs": [
    {
     "data": {
      "text/plain": [
       "array([[-0.95377387, -0.52269928,  0.09993302, ..., -1.58233648,\n",
       "        -1.05916816, -0.35524399],\n",
       "       [ 1.76363593,  0.45884859, -0.86335572, ..., -1.58233648,\n",
       "        -0.65943075, -0.35524399],\n",
       "       [-1.38855944,  1.56308993, -1.82664446, ...,  0.24111056,\n",
       "        -0.65943075, -0.67610953],\n",
       "       ...,\n",
       "       [ 1.43754676,  2.29925083,  0.09993302, ..., -1.58233648,\n",
       "         0.53978146, -0.35524399],\n",
       "       [ 0.02449366,  0.09076814, -0.86335572, ...,  1.15283407,\n",
       "         0.14004406, -0.67610953],\n",
       "       [ 1.11145758, -0.89077972, -0.86335572, ...,  1.15283407,\n",
       "        -1.05916816,  1.56994925]])"
      ]
     },
     "execution_count": 14,
     "metadata": {},
     "output_type": "execute_result"
    }
   ],
   "source": [
    "X_test_scaled"
   ]
  },
  {
   "cell_type": "code",
   "execution_count": 15,
   "metadata": {
    "colab": {
     "base_uri": "https://localhost:8080/"
    },
    "executionInfo": {
     "elapsed": 99,
     "status": "ok",
     "timestamp": 1730699227256,
     "user": {
      "displayName": "Alexander Booth",
      "userId": "02269714993535573104"
     },
     "user_tz": 360
    },
    "id": "-z0Mky8vQSz4",
    "outputId": "5024d63f-7e4e-4a91-fb76-0b2c79c1bcfb"
   },
   "outputs": [
    {
     "name": "stdout",
     "output_type": "stream",
     "text": [
      "Encoded Department shape: (1176, 3)\n"
     ]
    }
   ],
   "source": [
    "from sklearn.preprocessing import OneHotEncoder\n",
    "\n",
    "# OneHotEncode the Department column\n",
    "dept_encoder = OneHotEncoder(sparse_output=False)  # Drop first to avoid redundancy\n",
    "encoded_dept_train = dept_encoder.fit_transform(y_train[['Department']])\n",
    "encoded_dept_test = dept_encoder.transform(y_test[['Department']])\n",
    "\n",
    "\n",
    "print(\"Encoded Department shape:\", encoded_dept_train.shape)\n"
   ]
  },
  {
   "cell_type": "code",
   "execution_count": 16,
   "metadata": {},
   "outputs": [
    {
     "data": {
      "text/plain": [
       "array([[0., 1., 0.],\n",
       "       [0., 1., 0.],\n",
       "       [0., 0., 1.],\n",
       "       ...,\n",
       "       [0., 1., 0.],\n",
       "       [0., 1., 0.],\n",
       "       [0., 0., 1.]])"
      ]
     },
     "execution_count": 16,
     "metadata": {},
     "output_type": "execute_result"
    }
   ],
   "source": [
    "encoded_dept_train"
   ]
  },
  {
   "cell_type": "code",
   "execution_count": 17,
   "metadata": {},
   "outputs": [
    {
     "data": {
      "text/plain": [
       "array([[0., 0., 1.],\n",
       "       [0., 1., 0.],\n",
       "       [1., 0., 0.],\n",
       "       [0., 1., 0.],\n",
       "       [0., 1., 0.]])"
      ]
     },
     "execution_count": 17,
     "metadata": {},
     "output_type": "execute_result"
    }
   ],
   "source": [
    "encoded_dept_test[0:5]"
   ]
  },
  {
   "cell_type": "code",
   "execution_count": 18,
   "metadata": {},
   "outputs": [
    {
     "name": "stdout",
     "output_type": "stream",
     "text": [
      "Encoded Attrition shape: (1176, 2)\n"
     ]
    }
   ],
   "source": [
    "from sklearn.preprocessing import OneHotEncoder\n",
    "\n",
    "# Use OneHotEncoder for binary classification\n",
    "attr_encoder = OneHotEncoder(sparse_output=False)\n",
    "encoded_attr_train = attr_encoder.fit_transform(y_train[['Attrition']])\n",
    "encoded_attr_test = attr_encoder.transform(y_test[['Attrition']])\n",
    "\n",
    "print(\"Encoded Attrition shape:\", encoded_attr_train.shape)"
   ]
  },
  {
   "cell_type": "markdown",
   "metadata": {
    "id": "ykNmu_WWGc3T"
   },
   "source": [
    "## Part 2: Create, Compile, and Train the Model"
   ]
  },
  {
   "cell_type": "code",
   "execution_count": 19,
   "metadata": {
    "executionInfo": {
     "elapsed": 309,
     "status": "ok",
     "timestamp": 1730699227563,
     "user": {
      "displayName": "Alexander Booth",
      "userId": "02269714993535573104"
     },
     "user_tz": 360
    },
    "id": "WUptZqmSGc3T"
   },
   "outputs": [],
   "source": [
    "# Find the number of columns in the X training data.\n",
    "n_cols = X_train_scaled.shape[1]\n",
    "# Create the input layer\n",
    "input_layer = layers.Input(shape=(n_cols,))\n",
    "\n",
    "# Create at least two shared layers\n",
    "shared1 = layers.Dense(64, activation='relu')(input_layer)\n",
    "shared2 = layers.Dense(128, activation='relu')(shared1)\n",
    "\n",
    "# Create the output layer\n",
    "output_layer = layers.Dense(2, activation='softmax')(shared2)"
   ]
  },
  {
   "cell_type": "code",
   "execution_count": 20,
   "metadata": {
    "executionInfo": {
     "elapsed": 118,
     "status": "ok",
     "timestamp": 1730699227678,
     "user": {
      "displayName": "Alexander Booth",
      "userId": "02269714993535573104"
     },
     "user_tz": 360
    },
    "id": "JukjTm2yTEqd"
   },
   "outputs": [],
   "source": [
    "# Create a branch for Department\n",
    "# with a hidden layer and an output layer\n",
    "\n",
    "# Create the hidden layer\n",
    "dept_hidden = layers.Dense(32, activation='relu')(shared2)\n",
    "\n",
    "# Create the output layer\n",
    "dept_output = layers.Dense(3, activation='softmax', name = 'dept_output' )(dept_hidden)\n"
   ]
  },
  {
   "cell_type": "code",
   "execution_count": 21,
   "metadata": {
    "executionInfo": {
     "elapsed": 9,
     "status": "ok",
     "timestamp": 1730699227679,
     "user": {
      "displayName": "Alexander Booth",
      "userId": "02269714993535573104"
     },
     "user_tz": 360
    },
    "id": "9OqhUiOJUBkR"
   },
   "outputs": [],
   "source": [
    "# Create a branch for Attrition\n",
    "# with a hidden layer and an output layer\n",
    "\n",
    "# Create the hidden layer\n",
    "attr_hidden = layers.Dense(32, activation='relu')(shared2)\n",
    "\n",
    "# Create the output layer\n",
    "attr_output = layers.Dense(2, activation='softmax', name = 'attr_output')(attr_hidden)\n",
    "\n"
   ]
  },
  {
   "cell_type": "code",
   "execution_count": 22,
   "metadata": {
    "colab": {
     "base_uri": "https://localhost:8080/",
     "height": 361
    },
    "executionInfo": {
     "elapsed": 108,
     "status": "ok",
     "timestamp": 1730699227780,
     "user": {
      "displayName": "Alexander Booth",
      "userId": "02269714993535573104"
     },
     "user_tz": 360
    },
    "id": "twmuejdxGc3T",
    "outputId": "dd9ce242-6a66-4709-ba13-4b13551c22e0"
   },
   "outputs": [
    {
     "data": {
      "text/html": [
       "<pre style=\"white-space:pre;overflow-x:auto;line-height:normal;font-family:Menlo,'DejaVu Sans Mono',consolas,'Courier New',monospace\"><span style=\"font-weight: bold\">Model: \"functional\"</span>\n",
       "</pre>\n"
      ],
      "text/plain": [
       "\u001b[1mModel: \"functional\"\u001b[0m\n"
      ]
     },
     "metadata": {},
     "output_type": "display_data"
    },
    {
     "data": {
      "text/html": [
       "<pre style=\"white-space:pre;overflow-x:auto;line-height:normal;font-family:Menlo,'DejaVu Sans Mono',consolas,'Courier New',monospace\">┏━━━━━━━━━━━━━━━━━━━━━┳━━━━━━━━━━━━━━━━━━━┳━━━━━━━━━━━━┳━━━━━━━━━━━━━━━━━━━┓\n",
       "┃<span style=\"font-weight: bold\"> Layer (type)        </span>┃<span style=\"font-weight: bold\"> Output Shape      </span>┃<span style=\"font-weight: bold\">    Param # </span>┃<span style=\"font-weight: bold\"> Connected to      </span>┃\n",
       "┡━━━━━━━━━━━━━━━━━━━━━╇━━━━━━━━━━━━━━━━━━━╇━━━━━━━━━━━━╇━━━━━━━━━━━━━━━━━━━┩\n",
       "│ input_layer         │ (<span style=\"color: #00d7ff; text-decoration-color: #00d7ff\">None</span>, <span style=\"color: #00af00; text-decoration-color: #00af00\">10</span>)        │          <span style=\"color: #00af00; text-decoration-color: #00af00\">0</span> │ -                 │\n",
       "│ (<span style=\"color: #0087ff; text-decoration-color: #0087ff\">InputLayer</span>)        │                   │            │                   │\n",
       "├─────────────────────┼───────────────────┼────────────┼───────────────────┤\n",
       "│ dense (<span style=\"color: #0087ff; text-decoration-color: #0087ff\">Dense</span>)       │ (<span style=\"color: #00d7ff; text-decoration-color: #00d7ff\">None</span>, <span style=\"color: #00af00; text-decoration-color: #00af00\">64</span>)        │        <span style=\"color: #00af00; text-decoration-color: #00af00\">704</span> │ input_layer[<span style=\"color: #00af00; text-decoration-color: #00af00\">0</span>][<span style=\"color: #00af00; text-decoration-color: #00af00\">0</span>] │\n",
       "├─────────────────────┼───────────────────┼────────────┼───────────────────┤\n",
       "│ dense_1 (<span style=\"color: #0087ff; text-decoration-color: #0087ff\">Dense</span>)     │ (<span style=\"color: #00d7ff; text-decoration-color: #00d7ff\">None</span>, <span style=\"color: #00af00; text-decoration-color: #00af00\">128</span>)       │      <span style=\"color: #00af00; text-decoration-color: #00af00\">8,320</span> │ dense[<span style=\"color: #00af00; text-decoration-color: #00af00\">0</span>][<span style=\"color: #00af00; text-decoration-color: #00af00\">0</span>]       │\n",
       "├─────────────────────┼───────────────────┼────────────┼───────────────────┤\n",
       "│ dense_4 (<span style=\"color: #0087ff; text-decoration-color: #0087ff\">Dense</span>)     │ (<span style=\"color: #00d7ff; text-decoration-color: #00d7ff\">None</span>, <span style=\"color: #00af00; text-decoration-color: #00af00\">32</span>)        │      <span style=\"color: #00af00; text-decoration-color: #00af00\">4,128</span> │ dense_1[<span style=\"color: #00af00; text-decoration-color: #00af00\">0</span>][<span style=\"color: #00af00; text-decoration-color: #00af00\">0</span>]     │\n",
       "├─────────────────────┼───────────────────┼────────────┼───────────────────┤\n",
       "│ dense_3 (<span style=\"color: #0087ff; text-decoration-color: #0087ff\">Dense</span>)     │ (<span style=\"color: #00d7ff; text-decoration-color: #00d7ff\">None</span>, <span style=\"color: #00af00; text-decoration-color: #00af00\">32</span>)        │      <span style=\"color: #00af00; text-decoration-color: #00af00\">4,128</span> │ dense_1[<span style=\"color: #00af00; text-decoration-color: #00af00\">0</span>][<span style=\"color: #00af00; text-decoration-color: #00af00\">0</span>]     │\n",
       "├─────────────────────┼───────────────────┼────────────┼───────────────────┤\n",
       "│ attr_output (<span style=\"color: #0087ff; text-decoration-color: #0087ff\">Dense</span>) │ (<span style=\"color: #00d7ff; text-decoration-color: #00d7ff\">None</span>, <span style=\"color: #00af00; text-decoration-color: #00af00\">2</span>)         │         <span style=\"color: #00af00; text-decoration-color: #00af00\">66</span> │ dense_4[<span style=\"color: #00af00; text-decoration-color: #00af00\">0</span>][<span style=\"color: #00af00; text-decoration-color: #00af00\">0</span>]     │\n",
       "├─────────────────────┼───────────────────┼────────────┼───────────────────┤\n",
       "│ dept_output (<span style=\"color: #0087ff; text-decoration-color: #0087ff\">Dense</span>) │ (<span style=\"color: #00d7ff; text-decoration-color: #00d7ff\">None</span>, <span style=\"color: #00af00; text-decoration-color: #00af00\">3</span>)         │         <span style=\"color: #00af00; text-decoration-color: #00af00\">99</span> │ dense_3[<span style=\"color: #00af00; text-decoration-color: #00af00\">0</span>][<span style=\"color: #00af00; text-decoration-color: #00af00\">0</span>]     │\n",
       "└─────────────────────┴───────────────────┴────────────┴───────────────────┘\n",
       "</pre>\n"
      ],
      "text/plain": [
       "┏━━━━━━━━━━━━━━━━━━━━━┳━━━━━━━━━━━━━━━━━━━┳━━━━━━━━━━━━┳━━━━━━━━━━━━━━━━━━━┓\n",
       "┃\u001b[1m \u001b[0m\u001b[1mLayer (type)       \u001b[0m\u001b[1m \u001b[0m┃\u001b[1m \u001b[0m\u001b[1mOutput Shape     \u001b[0m\u001b[1m \u001b[0m┃\u001b[1m \u001b[0m\u001b[1m   Param #\u001b[0m\u001b[1m \u001b[0m┃\u001b[1m \u001b[0m\u001b[1mConnected to     \u001b[0m\u001b[1m \u001b[0m┃\n",
       "┡━━━━━━━━━━━━━━━━━━━━━╇━━━━━━━━━━━━━━━━━━━╇━━━━━━━━━━━━╇━━━━━━━━━━━━━━━━━━━┩\n",
       "│ input_layer         │ (\u001b[38;5;45mNone\u001b[0m, \u001b[38;5;34m10\u001b[0m)        │          \u001b[38;5;34m0\u001b[0m │ -                 │\n",
       "│ (\u001b[38;5;33mInputLayer\u001b[0m)        │                   │            │                   │\n",
       "├─────────────────────┼───────────────────┼────────────┼───────────────────┤\n",
       "│ dense (\u001b[38;5;33mDense\u001b[0m)       │ (\u001b[38;5;45mNone\u001b[0m, \u001b[38;5;34m64\u001b[0m)        │        \u001b[38;5;34m704\u001b[0m │ input_layer[\u001b[38;5;34m0\u001b[0m][\u001b[38;5;34m0\u001b[0m] │\n",
       "├─────────────────────┼───────────────────┼────────────┼───────────────────┤\n",
       "│ dense_1 (\u001b[38;5;33mDense\u001b[0m)     │ (\u001b[38;5;45mNone\u001b[0m, \u001b[38;5;34m128\u001b[0m)       │      \u001b[38;5;34m8,320\u001b[0m │ dense[\u001b[38;5;34m0\u001b[0m][\u001b[38;5;34m0\u001b[0m]       │\n",
       "├─────────────────────┼───────────────────┼────────────┼───────────────────┤\n",
       "│ dense_4 (\u001b[38;5;33mDense\u001b[0m)     │ (\u001b[38;5;45mNone\u001b[0m, \u001b[38;5;34m32\u001b[0m)        │      \u001b[38;5;34m4,128\u001b[0m │ dense_1[\u001b[38;5;34m0\u001b[0m][\u001b[38;5;34m0\u001b[0m]     │\n",
       "├─────────────────────┼───────────────────┼────────────┼───────────────────┤\n",
       "│ dense_3 (\u001b[38;5;33mDense\u001b[0m)     │ (\u001b[38;5;45mNone\u001b[0m, \u001b[38;5;34m32\u001b[0m)        │      \u001b[38;5;34m4,128\u001b[0m │ dense_1[\u001b[38;5;34m0\u001b[0m][\u001b[38;5;34m0\u001b[0m]     │\n",
       "├─────────────────────┼───────────────────┼────────────┼───────────────────┤\n",
       "│ attr_output (\u001b[38;5;33mDense\u001b[0m) │ (\u001b[38;5;45mNone\u001b[0m, \u001b[38;5;34m2\u001b[0m)         │         \u001b[38;5;34m66\u001b[0m │ dense_4[\u001b[38;5;34m0\u001b[0m][\u001b[38;5;34m0\u001b[0m]     │\n",
       "├─────────────────────┼───────────────────┼────────────┼───────────────────┤\n",
       "│ dept_output (\u001b[38;5;33mDense\u001b[0m) │ (\u001b[38;5;45mNone\u001b[0m, \u001b[38;5;34m3\u001b[0m)         │         \u001b[38;5;34m99\u001b[0m │ dense_3[\u001b[38;5;34m0\u001b[0m][\u001b[38;5;34m0\u001b[0m]     │\n",
       "└─────────────────────┴───────────────────┴────────────┴───────────────────┘\n"
      ]
     },
     "metadata": {},
     "output_type": "display_data"
    },
    {
     "data": {
      "text/html": [
       "<pre style=\"white-space:pre;overflow-x:auto;line-height:normal;font-family:Menlo,'DejaVu Sans Mono',consolas,'Courier New',monospace\"><span style=\"font-weight: bold\"> Total params: </span><span style=\"color: #00af00; text-decoration-color: #00af00\">17,445</span> (68.14 KB)\n",
       "</pre>\n"
      ],
      "text/plain": [
       "\u001b[1m Total params: \u001b[0m\u001b[38;5;34m17,445\u001b[0m (68.14 KB)\n"
      ]
     },
     "metadata": {},
     "output_type": "display_data"
    },
    {
     "data": {
      "text/html": [
       "<pre style=\"white-space:pre;overflow-x:auto;line-height:normal;font-family:Menlo,'DejaVu Sans Mono',consolas,'Courier New',monospace\"><span style=\"font-weight: bold\"> Trainable params: </span><span style=\"color: #00af00; text-decoration-color: #00af00\">17,445</span> (68.14 KB)\n",
       "</pre>\n"
      ],
      "text/plain": [
       "\u001b[1m Trainable params: \u001b[0m\u001b[38;5;34m17,445\u001b[0m (68.14 KB)\n"
      ]
     },
     "metadata": {},
     "output_type": "display_data"
    },
    {
     "data": {
      "text/html": [
       "<pre style=\"white-space:pre;overflow-x:auto;line-height:normal;font-family:Menlo,'DejaVu Sans Mono',consolas,'Courier New',monospace\"><span style=\"font-weight: bold\"> Non-trainable params: </span><span style=\"color: #00af00; text-decoration-color: #00af00\">0</span> (0.00 B)\n",
       "</pre>\n"
      ],
      "text/plain": [
       "\u001b[1m Non-trainable params: \u001b[0m\u001b[38;5;34m0\u001b[0m (0.00 B)\n"
      ]
     },
     "metadata": {},
     "output_type": "display_data"
    }
   ],
   "source": [
    "# Create the model\n",
    "\n",
    "model = Model(inputs=input_layer, outputs=[attr_output, dept_output])\n",
    "\n",
    "#Compile the model\n",
    "model.compile(\n",
    "    optimizer='adam',\n",
    "    loss=['categorical_crossentropy', 'categorical_crossentropy'],\n",
    "    metrics=[['accuracy'], ['accuracy']])  \n",
    "\n",
    "\n",
    "# Summarize the model\n",
    "model.summary()"
   ]
  },
  {
   "cell_type": "code",
   "execution_count": 23,
   "metadata": {},
   "outputs": [
    {
     "name": "stdout",
     "output_type": "stream",
     "text": [
      "X_train_scaled: (1176, 10)\n"
     ]
    }
   ],
   "source": [
    "#shape of X_train_scaled\n",
    "print(\"X_train_scaled:\", X_train_scaled.shape)"
   ]
  },
  {
   "cell_type": "code",
   "execution_count": 24,
   "metadata": {},
   "outputs": [
    {
     "name": "stdout",
     "output_type": "stream",
     "text": [
      "Epoch 1/100\n",
      "\u001b[1m30/30\u001b[0m \u001b[32m━━━━━━━━━━━━━━━━━━━━\u001b[0m\u001b[37m\u001b[0m \u001b[1m1s\u001b[0m 6ms/step - attr_output_accuracy: 0.5954 - attr_output_loss: 0.6351 - dept_output_accuracy: 0.4719 - dept_output_loss: 1.0175 - loss: 1.6524 - val_attr_output_accuracy: 0.7966 - val_attr_output_loss: 0.4888 - val_dept_output_accuracy: 0.6314 - val_dept_output_loss: 0.8036 - val_loss: 1.3258\n",
      "Epoch 2/100\n",
      "\u001b[1m30/30\u001b[0m \u001b[32m━━━━━━━━━━━━━━━━━━━━\u001b[0m\u001b[37m\u001b[0m \u001b[1m0s\u001b[0m 2ms/step - attr_output_accuracy: 0.8531 - attr_output_loss: 0.3852 - dept_output_accuracy: 0.6300 - dept_output_loss: 0.8028 - loss: 1.1880 - val_attr_output_accuracy: 0.8008 - val_attr_output_loss: 0.4380 - val_dept_output_accuracy: 0.6314 - val_dept_output_loss: 0.7878 - val_loss: 1.2556\n",
      "Epoch 3/100\n",
      "\u001b[1m30/30\u001b[0m \u001b[32m━━━━━━━━━━━━━━━━━━━━\u001b[0m\u001b[37m\u001b[0m \u001b[1m0s\u001b[0m 2ms/step - attr_output_accuracy: 0.8512 - attr_output_loss: 0.3686 - dept_output_accuracy: 0.6570 - dept_output_loss: 0.7541 - loss: 1.1225 - val_attr_output_accuracy: 0.8136 - val_attr_output_loss: 0.4223 - val_dept_output_accuracy: 0.6314 - val_dept_output_loss: 0.7870 - val_loss: 1.2380\n",
      "Epoch 4/100\n",
      "\u001b[1m30/30\u001b[0m \u001b[32m━━━━━━━━━━━━━━━━━━━━\u001b[0m\u001b[37m\u001b[0m \u001b[1m0s\u001b[0m 2ms/step - attr_output_accuracy: 0.8377 - attr_output_loss: 0.3817 - dept_output_accuracy: 0.6300 - dept_output_loss: 0.7980 - loss: 1.1795 - val_attr_output_accuracy: 0.8136 - val_attr_output_loss: 0.4254 - val_dept_output_accuracy: 0.6314 - val_dept_output_loss: 0.7927 - val_loss: 1.2485\n",
      "Epoch 5/100\n",
      "\u001b[1m30/30\u001b[0m \u001b[32m━━━━━━━━━━━━━━━━━━━━\u001b[0m\u001b[37m\u001b[0m \u001b[1m0s\u001b[0m 2ms/step - attr_output_accuracy: 0.8542 - attr_output_loss: 0.3503 - dept_output_accuracy: 0.6795 - dept_output_loss: 0.7033 - loss: 1.0542 - val_attr_output_accuracy: 0.8263 - val_attr_output_loss: 0.4206 - val_dept_output_accuracy: 0.6314 - val_dept_output_loss: 0.7879 - val_loss: 1.2351\n",
      "Epoch 6/100\n",
      "\u001b[1m30/30\u001b[0m \u001b[32m━━━━━━━━━━━━━━━━━━━━\u001b[0m\u001b[37m\u001b[0m \u001b[1m0s\u001b[0m 2ms/step - attr_output_accuracy: 0.8594 - attr_output_loss: 0.3682 - dept_output_accuracy: 0.6738 - dept_output_loss: 0.7439 - loss: 1.1117 - val_attr_output_accuracy: 0.8559 - val_attr_output_loss: 0.4090 - val_dept_output_accuracy: 0.6229 - val_dept_output_loss: 0.7933 - val_loss: 1.2271\n",
      "Epoch 7/100\n",
      "\u001b[1m30/30\u001b[0m \u001b[32m━━━━━━━━━━━━━━━━━━━━\u001b[0m\u001b[37m\u001b[0m \u001b[1m0s\u001b[0m 2ms/step - attr_output_accuracy: 0.8508 - attr_output_loss: 0.3493 - dept_output_accuracy: 0.6181 - dept_output_loss: 0.7454 - loss: 1.0952 - val_attr_output_accuracy: 0.8178 - val_attr_output_loss: 0.4469 - val_dept_output_accuracy: 0.6314 - val_dept_output_loss: 0.7978 - val_loss: 1.2749\n",
      "Epoch 8/100\n",
      "\u001b[1m30/30\u001b[0m \u001b[32m━━━━━━━━━━━━━━━━━━━━\u001b[0m\u001b[37m\u001b[0m \u001b[1m0s\u001b[0m 2ms/step - attr_output_accuracy: 0.8549 - attr_output_loss: 0.3427 - dept_output_accuracy: 0.6414 - dept_output_loss: 0.7556 - loss: 1.0985 - val_attr_output_accuracy: 0.8263 - val_attr_output_loss: 0.4181 - val_dept_output_accuracy: 0.6314 - val_dept_output_loss: 0.7947 - val_loss: 1.2400\n",
      "Epoch 9/100\n",
      "\u001b[1m30/30\u001b[0m \u001b[32m━━━━━━━━━━━━━━━━━━━━\u001b[0m\u001b[37m\u001b[0m \u001b[1m0s\u001b[0m 3ms/step - attr_output_accuracy: 0.8711 - attr_output_loss: 0.3259 - dept_output_accuracy: 0.6532 - dept_output_loss: 0.7102 - loss: 1.0356 - val_attr_output_accuracy: 0.8432 - val_attr_output_loss: 0.4127 - val_dept_output_accuracy: 0.6314 - val_dept_output_loss: 0.7932 - val_loss: 1.2323\n",
      "Epoch 10/100\n",
      "\u001b[1m30/30\u001b[0m \u001b[32m━━━━━━━━━━━━━━━━━━━━\u001b[0m\u001b[37m\u001b[0m \u001b[1m0s\u001b[0m 2ms/step - attr_output_accuracy: 0.8872 - attr_output_loss: 0.2968 - dept_output_accuracy: 0.6583 - dept_output_loss: 0.7306 - loss: 1.0268 - val_attr_output_accuracy: 0.8517 - val_attr_output_loss: 0.4146 - val_dept_output_accuracy: 0.6229 - val_dept_output_loss: 0.7980 - val_loss: 1.2383\n",
      "Epoch 11/100\n",
      "\u001b[1m30/30\u001b[0m \u001b[32m━━━━━━━━━━━━━━━━━━━━\u001b[0m\u001b[37m\u001b[0m \u001b[1m0s\u001b[0m 2ms/step - attr_output_accuracy: 0.8899 - attr_output_loss: 0.2854 - dept_output_accuracy: 0.6564 - dept_output_loss: 0.7222 - loss: 1.0072 - val_attr_output_accuracy: 0.8390 - val_attr_output_loss: 0.4202 - val_dept_output_accuracy: 0.6271 - val_dept_output_loss: 0.8151 - val_loss: 1.2634\n",
      "Epoch 12/100\n",
      "\u001b[1m30/30\u001b[0m \u001b[32m━━━━━━━━━━━━━━━━━━━━\u001b[0m\u001b[37m\u001b[0m \u001b[1m0s\u001b[0m 2ms/step - attr_output_accuracy: 0.8951 - attr_output_loss: 0.2791 - dept_output_accuracy: 0.6849 - dept_output_loss: 0.6840 - loss: 0.9632 - val_attr_output_accuracy: 0.8517 - val_attr_output_loss: 0.4235 - val_dept_output_accuracy: 0.6314 - val_dept_output_loss: 0.8016 - val_loss: 1.2513\n",
      "Epoch 13/100\n",
      "\u001b[1m30/30\u001b[0m \u001b[32m━━━━━━━━━━━━━━━━━━━━\u001b[0m\u001b[37m\u001b[0m \u001b[1m0s\u001b[0m 2ms/step - attr_output_accuracy: 0.8865 - attr_output_loss: 0.2650 - dept_output_accuracy: 0.6796 - dept_output_loss: 0.6805 - loss: 0.9454 - val_attr_output_accuracy: 0.8475 - val_attr_output_loss: 0.4205 - val_dept_output_accuracy: 0.6144 - val_dept_output_loss: 0.8103 - val_loss: 1.2587\n",
      "Epoch 14/100\n",
      "\u001b[1m30/30\u001b[0m \u001b[32m━━━━━━━━━━━━━━━━━━━━\u001b[0m\u001b[37m\u001b[0m \u001b[1m0s\u001b[0m 2ms/step - attr_output_accuracy: 0.8936 - attr_output_loss: 0.2909 - dept_output_accuracy: 0.6720 - dept_output_loss: 0.6954 - loss: 0.9865 - val_attr_output_accuracy: 0.8432 - val_attr_output_loss: 0.4306 - val_dept_output_accuracy: 0.6144 - val_dept_output_loss: 0.8141 - val_loss: 1.2763\n",
      "Epoch 15/100\n",
      "\u001b[1m30/30\u001b[0m \u001b[32m━━━━━━━━━━━━━━━━━━━━\u001b[0m\u001b[37m\u001b[0m \u001b[1m0s\u001b[0m 2ms/step - attr_output_accuracy: 0.8924 - attr_output_loss: 0.2814 - dept_output_accuracy: 0.6879 - dept_output_loss: 0.6732 - loss: 0.9536 - val_attr_output_accuracy: 0.8390 - val_attr_output_loss: 0.4379 - val_dept_output_accuracy: 0.6102 - val_dept_output_loss: 0.8093 - val_loss: 1.2759\n",
      "Epoch 16/100\n",
      "\u001b[1m30/30\u001b[0m \u001b[32m━━━━━━━━━━━━━━━━━━━━\u001b[0m\u001b[37m\u001b[0m \u001b[1m0s\u001b[0m 2ms/step - attr_output_accuracy: 0.9197 - attr_output_loss: 0.2357 - dept_output_accuracy: 0.6796 - dept_output_loss: 0.6922 - loss: 0.9278 - val_attr_output_accuracy: 0.8432 - val_attr_output_loss: 0.4269 - val_dept_output_accuracy: 0.5890 - val_dept_output_loss: 0.8150 - val_loss: 1.2723\n",
      "Epoch 17/100\n",
      "\u001b[1m30/30\u001b[0m \u001b[32m━━━━━━━━━━━━━━━━━━━━\u001b[0m\u001b[37m\u001b[0m \u001b[1m0s\u001b[0m 4ms/step - attr_output_accuracy: 0.9010 - attr_output_loss: 0.2556 - dept_output_accuracy: 0.7185 - dept_output_loss: 0.6243 - loss: 0.8799 - val_attr_output_accuracy: 0.8517 - val_attr_output_loss: 0.4426 - val_dept_output_accuracy: 0.5763 - val_dept_output_loss: 0.8272 - val_loss: 1.3026\n",
      "Epoch 18/100\n",
      "\u001b[1m30/30\u001b[0m \u001b[32m━━━━━━━━━━━━━━━━━━━━\u001b[0m\u001b[37m\u001b[0m \u001b[1m0s\u001b[0m 2ms/step - attr_output_accuracy: 0.9070 - attr_output_loss: 0.2487 - dept_output_accuracy: 0.7144 - dept_output_loss: 0.6407 - loss: 0.8894 - val_attr_output_accuracy: 0.8263 - val_attr_output_loss: 0.4695 - val_dept_output_accuracy: 0.5932 - val_dept_output_loss: 0.8277 - val_loss: 1.3316\n",
      "Epoch 19/100\n",
      "\u001b[1m30/30\u001b[0m \u001b[32m━━━━━━━━━━━━━━━━━━━━\u001b[0m\u001b[37m\u001b[0m \u001b[1m0s\u001b[0m 2ms/step - attr_output_accuracy: 0.9212 - attr_output_loss: 0.2173 - dept_output_accuracy: 0.7514 - dept_output_loss: 0.5845 - loss: 0.8018 - val_attr_output_accuracy: 0.8305 - val_attr_output_loss: 0.4784 - val_dept_output_accuracy: 0.5932 - val_dept_output_loss: 0.8360 - val_loss: 1.3490\n",
      "Epoch 20/100\n",
      "\u001b[1m30/30\u001b[0m \u001b[32m━━━━━━━━━━━━━━━━━━━━\u001b[0m\u001b[37m\u001b[0m \u001b[1m0s\u001b[0m 2ms/step - attr_output_accuracy: 0.9164 - attr_output_loss: 0.2364 - dept_output_accuracy: 0.7283 - dept_output_loss: 0.6030 - loss: 0.8393 - val_attr_output_accuracy: 0.8517 - val_attr_output_loss: 0.4655 - val_dept_output_accuracy: 0.5720 - val_dept_output_loss: 0.8525 - val_loss: 1.3550\n",
      "Epoch 21/100\n",
      "\u001b[1m30/30\u001b[0m \u001b[32m━━━━━━━━━━━━━━━━━━━━\u001b[0m\u001b[37m\u001b[0m \u001b[1m0s\u001b[0m 2ms/step - attr_output_accuracy: 0.9279 - attr_output_loss: 0.2018 - dept_output_accuracy: 0.7479 - dept_output_loss: 0.6116 - loss: 0.8133 - val_attr_output_accuracy: 0.8475 - val_attr_output_loss: 0.4636 - val_dept_output_accuracy: 0.6102 - val_dept_output_loss: 0.8708 - val_loss: 1.3739\n",
      "Epoch 22/100\n",
      "\u001b[1m30/30\u001b[0m \u001b[32m━━━━━━━━━━━━━━━━━━━━\u001b[0m\u001b[37m\u001b[0m \u001b[1m0s\u001b[0m 2ms/step - attr_output_accuracy: 0.9219 - attr_output_loss: 0.2230 - dept_output_accuracy: 0.7185 - dept_output_loss: 0.6193 - loss: 0.8427 - val_attr_output_accuracy: 0.8602 - val_attr_output_loss: 0.4736 - val_dept_output_accuracy: 0.5805 - val_dept_output_loss: 0.8824 - val_loss: 1.3983\n",
      "Epoch 23/100\n",
      "\u001b[1m30/30\u001b[0m \u001b[32m━━━━━━━━━━━━━━━━━━━━\u001b[0m\u001b[37m\u001b[0m \u001b[1m0s\u001b[0m 2ms/step - attr_output_accuracy: 0.9268 - attr_output_loss: 0.1983 - dept_output_accuracy: 0.7556 - dept_output_loss: 0.5774 - loss: 0.7757 - val_attr_output_accuracy: 0.8220 - val_attr_output_loss: 0.4768 - val_dept_output_accuracy: 0.5636 - val_dept_output_loss: 0.9109 - val_loss: 1.4270\n",
      "Epoch 24/100\n",
      "\u001b[1m30/30\u001b[0m \u001b[32m━━━━━━━━━━━━━━━━━━━━\u001b[0m\u001b[37m\u001b[0m \u001b[1m0s\u001b[0m 2ms/step - attr_output_accuracy: 0.9280 - attr_output_loss: 0.1960 - dept_output_accuracy: 0.7729 - dept_output_loss: 0.5520 - loss: 0.7480 - val_attr_output_accuracy: 0.8517 - val_attr_output_loss: 0.4867 - val_dept_output_accuracy: 0.5508 - val_dept_output_loss: 0.9469 - val_loss: 1.4811\n",
      "Epoch 25/100\n",
      "\u001b[1m30/30\u001b[0m \u001b[32m━━━━━━━━━━━━━━━━━━━━\u001b[0m\u001b[37m\u001b[0m \u001b[1m0s\u001b[0m 2ms/step - attr_output_accuracy: 0.9253 - attr_output_loss: 0.1793 - dept_output_accuracy: 0.7715 - dept_output_loss: 0.5377 - loss: 0.7170 - val_attr_output_accuracy: 0.8517 - val_attr_output_loss: 0.5003 - val_dept_output_accuracy: 0.5466 - val_dept_output_loss: 0.9096 - val_loss: 1.4572\n",
      "Epoch 26/100\n",
      "\u001b[1m30/30\u001b[0m \u001b[32m━━━━━━━━━━━━━━━━━━━━\u001b[0m\u001b[37m\u001b[0m \u001b[1m0s\u001b[0m 2ms/step - attr_output_accuracy: 0.9380 - attr_output_loss: 0.1702 - dept_output_accuracy: 0.7644 - dept_output_loss: 0.5521 - loss: 0.7226 - val_attr_output_accuracy: 0.8475 - val_attr_output_loss: 0.4920 - val_dept_output_accuracy: 0.5593 - val_dept_output_loss: 0.9144 - val_loss: 1.4566\n",
      "Epoch 27/100\n",
      "\u001b[1m30/30\u001b[0m \u001b[32m━━━━━━━━━━━━━━━━━━━━\u001b[0m\u001b[37m\u001b[0m \u001b[1m0s\u001b[0m 2ms/step - attr_output_accuracy: 0.9337 - attr_output_loss: 0.1846 - dept_output_accuracy: 0.7680 - dept_output_loss: 0.5301 - loss: 0.7148 - val_attr_output_accuracy: 0.8475 - val_attr_output_loss: 0.5133 - val_dept_output_accuracy: 0.5508 - val_dept_output_loss: 0.9627 - val_loss: 1.5330\n",
      "Epoch 28/100\n",
      "\u001b[1m30/30\u001b[0m \u001b[32m━━━━━━━━━━━━━━━━━━━━\u001b[0m\u001b[37m\u001b[0m \u001b[1m0s\u001b[0m 2ms/step - attr_output_accuracy: 0.9424 - attr_output_loss: 0.1651 - dept_output_accuracy: 0.7947 - dept_output_loss: 0.4942 - loss: 0.6593 - val_attr_output_accuracy: 0.8559 - val_attr_output_loss: 0.5111 - val_dept_output_accuracy: 0.5381 - val_dept_output_loss: 0.9530 - val_loss: 1.5179\n",
      "Epoch 29/100\n",
      "\u001b[1m30/30\u001b[0m \u001b[32m━━━━━━━━━━━━━━━━━━━━\u001b[0m\u001b[37m\u001b[0m \u001b[1m0s\u001b[0m 2ms/step - attr_output_accuracy: 0.9459 - attr_output_loss: 0.1620 - dept_output_accuracy: 0.8232 - dept_output_loss: 0.4739 - loss: 0.6354 - val_attr_output_accuracy: 0.8475 - val_attr_output_loss: 0.5363 - val_dept_output_accuracy: 0.5508 - val_dept_output_loss: 0.9801 - val_loss: 1.5751\n",
      "Epoch 30/100\n",
      "\u001b[1m30/30\u001b[0m \u001b[32m━━━━━━━━━━━━━━━━━━━━\u001b[0m\u001b[37m\u001b[0m \u001b[1m0s\u001b[0m 2ms/step - attr_output_accuracy: 0.9565 - attr_output_loss: 0.1480 - dept_output_accuracy: 0.8209 - dept_output_loss: 0.4548 - loss: 0.6026 - val_attr_output_accuracy: 0.8390 - val_attr_output_loss: 0.5418 - val_dept_output_accuracy: 0.5593 - val_dept_output_loss: 1.0074 - val_loss: 1.6171\n",
      "Epoch 31/100\n",
      "\u001b[1m30/30\u001b[0m \u001b[32m━━━━━━━━━━━━━━━━━━━━\u001b[0m\u001b[37m\u001b[0m \u001b[1m0s\u001b[0m 3ms/step - attr_output_accuracy: 0.9469 - attr_output_loss: 0.1591 - dept_output_accuracy: 0.8125 - dept_output_loss: 0.4553 - loss: 0.6149 - val_attr_output_accuracy: 0.8517 - val_attr_output_loss: 0.5432 - val_dept_output_accuracy: 0.4915 - val_dept_output_loss: 1.0300 - val_loss: 1.6397\n",
      "Epoch 32/100\n",
      "\u001b[1m30/30\u001b[0m \u001b[32m━━━━━━━━━━━━━━━━━━━━\u001b[0m\u001b[37m\u001b[0m \u001b[1m0s\u001b[0m 2ms/step - attr_output_accuracy: 0.9477 - attr_output_loss: 0.1491 - dept_output_accuracy: 0.8594 - dept_output_loss: 0.4109 - loss: 0.5597 - val_attr_output_accuracy: 0.8263 - val_attr_output_loss: 0.5701 - val_dept_output_accuracy: 0.5169 - val_dept_output_loss: 1.0437 - val_loss: 1.6815\n",
      "Epoch 33/100\n",
      "\u001b[1m30/30\u001b[0m \u001b[32m━━━━━━━━━━━━━━━━━━━━\u001b[0m\u001b[37m\u001b[0m \u001b[1m0s\u001b[0m 2ms/step - attr_output_accuracy: 0.9559 - attr_output_loss: 0.1278 - dept_output_accuracy: 0.8577 - dept_output_loss: 0.4302 - loss: 0.5581 - val_attr_output_accuracy: 0.8305 - val_attr_output_loss: 0.5581 - val_dept_output_accuracy: 0.5254 - val_dept_output_loss: 1.0945 - val_loss: 1.7269\n",
      "Epoch 34/100\n",
      "\u001b[1m30/30\u001b[0m \u001b[32m━━━━━━━━━━━━━━━━━━━━\u001b[0m\u001b[37m\u001b[0m \u001b[1m0s\u001b[0m 2ms/step - attr_output_accuracy: 0.9522 - attr_output_loss: 0.1430 - dept_output_accuracy: 0.8509 - dept_output_loss: 0.3979 - loss: 0.5407 - val_attr_output_accuracy: 0.8305 - val_attr_output_loss: 0.5630 - val_dept_output_accuracy: 0.5466 - val_dept_output_loss: 1.0788 - val_loss: 1.7138\n",
      "Epoch 35/100\n",
      "\u001b[1m30/30\u001b[0m \u001b[32m━━━━━━━━━━━━━━━━━━━━\u001b[0m\u001b[37m\u001b[0m \u001b[1m0s\u001b[0m 2ms/step - attr_output_accuracy: 0.9599 - attr_output_loss: 0.1244 - dept_output_accuracy: 0.8696 - dept_output_loss: 0.3692 - loss: 0.4941 - val_attr_output_accuracy: 0.8432 - val_attr_output_loss: 0.5792 - val_dept_output_accuracy: 0.5720 - val_dept_output_loss: 1.1434 - val_loss: 1.7943\n",
      "Epoch 36/100\n",
      "\u001b[1m30/30\u001b[0m \u001b[32m━━━━━━━━━━━━━━━━━━━━\u001b[0m\u001b[37m\u001b[0m \u001b[1m0s\u001b[0m 2ms/step - attr_output_accuracy: 0.9689 - attr_output_loss: 0.1160 - dept_output_accuracy: 0.8461 - dept_output_loss: 0.3977 - loss: 0.5138 - val_attr_output_accuracy: 0.8220 - val_attr_output_loss: 0.5729 - val_dept_output_accuracy: 0.5297 - val_dept_output_loss: 1.2232 - val_loss: 1.8781\n",
      "Epoch 37/100\n",
      "\u001b[1m30/30\u001b[0m \u001b[32m━━━━━━━━━━━━━━━━━━━━\u001b[0m\u001b[37m\u001b[0m \u001b[1m0s\u001b[0m 2ms/step - attr_output_accuracy: 0.9638 - attr_output_loss: 0.1191 - dept_output_accuracy: 0.8611 - dept_output_loss: 0.3690 - loss: 0.4879 - val_attr_output_accuracy: 0.8178 - val_attr_output_loss: 0.6379 - val_dept_output_accuracy: 0.5424 - val_dept_output_loss: 1.2819 - val_loss: 2.0076\n",
      "Epoch 38/100\n",
      "\u001b[1m30/30\u001b[0m \u001b[32m━━━━━━━━━━━━━━━━━━━━\u001b[0m\u001b[37m\u001b[0m \u001b[1m0s\u001b[0m 2ms/step - attr_output_accuracy: 0.9592 - attr_output_loss: 0.1262 - dept_output_accuracy: 0.8742 - dept_output_loss: 0.3471 - loss: 0.4730 - val_attr_output_accuracy: 0.8305 - val_attr_output_loss: 0.6197 - val_dept_output_accuracy: 0.5593 - val_dept_output_loss: 1.2850 - val_loss: 1.9883\n",
      "Epoch 39/100\n",
      "\u001b[1m30/30\u001b[0m \u001b[32m━━━━━━━━━━━━━━━━━━━━\u001b[0m\u001b[37m\u001b[0m \u001b[1m0s\u001b[0m 2ms/step - attr_output_accuracy: 0.9652 - attr_output_loss: 0.1050 - dept_output_accuracy: 0.8891 - dept_output_loss: 0.3448 - loss: 0.4493 - val_attr_output_accuracy: 0.8390 - val_attr_output_loss: 0.6056 - val_dept_output_accuracy: 0.5339 - val_dept_output_loss: 1.1884 - val_loss: 1.8832\n",
      "Epoch 40/100\n",
      "\u001b[1m30/30\u001b[0m \u001b[32m━━━━━━━━━━━━━━━━━━━━\u001b[0m\u001b[37m\u001b[0m \u001b[1m0s\u001b[0m 2ms/step - attr_output_accuracy: 0.9563 - attr_output_loss: 0.1212 - dept_output_accuracy: 0.9047 - dept_output_loss: 0.2928 - loss: 0.4143 - val_attr_output_accuracy: 0.8220 - val_attr_output_loss: 0.6506 - val_dept_output_accuracy: 0.5212 - val_dept_output_loss: 1.2611 - val_loss: 2.0165\n",
      "Epoch 41/100\n",
      "\u001b[1m30/30\u001b[0m \u001b[32m━━━━━━━━━━━━━━━━━━━━\u001b[0m\u001b[37m\u001b[0m \u001b[1m0s\u001b[0m 2ms/step - attr_output_accuracy: 0.9683 - attr_output_loss: 0.0920 - dept_output_accuracy: 0.9175 - dept_output_loss: 0.2774 - loss: 0.3692 - val_attr_output_accuracy: 0.8093 - val_attr_output_loss: 0.6176 - val_dept_output_accuracy: 0.5381 - val_dept_output_loss: 1.3086 - val_loss: 2.0269\n",
      "Epoch 42/100\n",
      "\u001b[1m30/30\u001b[0m \u001b[32m━━━━━━━━━━━━━━━━━━━━\u001b[0m\u001b[37m\u001b[0m \u001b[1m0s\u001b[0m 2ms/step - attr_output_accuracy: 0.9724 - attr_output_loss: 0.0927 - dept_output_accuracy: 0.9147 - dept_output_loss: 0.2789 - loss: 0.3716 - val_attr_output_accuracy: 0.8263 - val_attr_output_loss: 0.6678 - val_dept_output_accuracy: 0.5212 - val_dept_output_loss: 1.3293 - val_loss: 2.0971\n",
      "Epoch 43/100\n",
      "\u001b[1m30/30\u001b[0m \u001b[32m━━━━━━━━━━━━━━━━━━━━\u001b[0m\u001b[37m\u001b[0m \u001b[1m0s\u001b[0m 2ms/step - attr_output_accuracy: 0.9732 - attr_output_loss: 0.0822 - dept_output_accuracy: 0.9287 - dept_output_loss: 0.2440 - loss: 0.3264 - val_attr_output_accuracy: 0.8347 - val_attr_output_loss: 0.6773 - val_dept_output_accuracy: 0.5297 - val_dept_output_loss: 1.3391 - val_loss: 2.1161\n",
      "Epoch 44/100\n",
      "\u001b[1m30/30\u001b[0m \u001b[32m━━━━━━━━━━━━━━━━━━━━\u001b[0m\u001b[37m\u001b[0m \u001b[1m0s\u001b[0m 2ms/step - attr_output_accuracy: 0.9763 - attr_output_loss: 0.0860 - dept_output_accuracy: 0.9352 - dept_output_loss: 0.2425 - loss: 0.3284 - val_attr_output_accuracy: 0.8136 - val_attr_output_loss: 0.7006 - val_dept_output_accuracy: 0.5254 - val_dept_output_loss: 1.3646 - val_loss: 2.1748\n",
      "Epoch 45/100\n",
      "\u001b[1m30/30\u001b[0m \u001b[32m━━━━━━━━━━━━━━━━━━━━\u001b[0m\u001b[37m\u001b[0m \u001b[1m0s\u001b[0m 2ms/step - attr_output_accuracy: 0.9798 - attr_output_loss: 0.0823 - dept_output_accuracy: 0.9202 - dept_output_loss: 0.2424 - loss: 0.3249 - val_attr_output_accuracy: 0.8305 - val_attr_output_loss: 0.6970 - val_dept_output_accuracy: 0.5424 - val_dept_output_loss: 1.4144 - val_loss: 2.2215\n",
      "Epoch 46/100\n",
      "\u001b[1m30/30\u001b[0m \u001b[32m━━━━━━━━━━━━━━━━━━━━\u001b[0m\u001b[37m\u001b[0m \u001b[1m0s\u001b[0m 2ms/step - attr_output_accuracy: 0.9809 - attr_output_loss: 0.0701 - dept_output_accuracy: 0.9238 - dept_output_loss: 0.2341 - loss: 0.3043 - val_attr_output_accuracy: 0.8263 - val_attr_output_loss: 0.7245 - val_dept_output_accuracy: 0.5254 - val_dept_output_loss: 1.4445 - val_loss: 2.2816\n",
      "Epoch 47/100\n",
      "\u001b[1m30/30\u001b[0m \u001b[32m━━━━━━━━━━━━━━━━━━━━\u001b[0m\u001b[37m\u001b[0m \u001b[1m0s\u001b[0m 2ms/step - attr_output_accuracy: 0.9774 - attr_output_loss: 0.0607 - dept_output_accuracy: 0.9311 - dept_output_loss: 0.2195 - loss: 0.2798 - val_attr_output_accuracy: 0.8008 - val_attr_output_loss: 0.7005 - val_dept_output_accuracy: 0.5212 - val_dept_output_loss: 1.4651 - val_loss: 2.2796\n",
      "Epoch 48/100\n",
      "\u001b[1m30/30\u001b[0m \u001b[32m━━━━━━━━━━━━━━━━━━━━\u001b[0m\u001b[37m\u001b[0m \u001b[1m0s\u001b[0m 2ms/step - attr_output_accuracy: 0.9817 - attr_output_loss: 0.0787 - dept_output_accuracy: 0.9449 - dept_output_loss: 0.2006 - loss: 0.2795 - val_attr_output_accuracy: 0.8347 - val_attr_output_loss: 0.7978 - val_dept_output_accuracy: 0.5297 - val_dept_output_loss: 1.4871 - val_loss: 2.4088\n",
      "Epoch 49/100\n",
      "\u001b[1m30/30\u001b[0m \u001b[32m━━━━━━━━━━━━━━━━━━━━\u001b[0m\u001b[37m\u001b[0m \u001b[1m0s\u001b[0m 2ms/step - attr_output_accuracy: 0.9915 - attr_output_loss: 0.0561 - dept_output_accuracy: 0.9580 - dept_output_loss: 0.1826 - loss: 0.2387 - val_attr_output_accuracy: 0.8136 - val_attr_output_loss: 0.7334 - val_dept_output_accuracy: 0.5212 - val_dept_output_loss: 1.5303 - val_loss: 2.3805\n",
      "Epoch 50/100\n",
      "\u001b[1m30/30\u001b[0m \u001b[32m━━━━━━━━━━━━━━━━━━━━\u001b[0m\u001b[37m\u001b[0m \u001b[1m0s\u001b[0m 2ms/step - attr_output_accuracy: 0.9906 - attr_output_loss: 0.0612 - dept_output_accuracy: 0.9521 - dept_output_loss: 0.1985 - loss: 0.2593 - val_attr_output_accuracy: 0.8263 - val_attr_output_loss: 0.7471 - val_dept_output_accuracy: 0.5169 - val_dept_output_loss: 1.6250 - val_loss: 2.5047\n",
      "Epoch 51/100\n",
      "\u001b[1m30/30\u001b[0m \u001b[32m━━━━━━━━━━━━━━━━━━━━\u001b[0m\u001b[37m\u001b[0m \u001b[1m0s\u001b[0m 2ms/step - attr_output_accuracy: 0.9827 - attr_output_loss: 0.0688 - dept_output_accuracy: 0.9545 - dept_output_loss: 0.1836 - loss: 0.2524 - val_attr_output_accuracy: 0.8347 - val_attr_output_loss: 0.8023 - val_dept_output_accuracy: 0.5127 - val_dept_output_loss: 1.6137 - val_loss: 2.5420\n",
      "Epoch 52/100\n",
      "\u001b[1m30/30\u001b[0m \u001b[32m━━━━━━━━━━━━━━━━━━━━\u001b[0m\u001b[37m\u001b[0m \u001b[1m0s\u001b[0m 2ms/step - attr_output_accuracy: 0.9898 - attr_output_loss: 0.0482 - dept_output_accuracy: 0.9563 - dept_output_loss: 0.1723 - loss: 0.2206 - val_attr_output_accuracy: 0.8305 - val_attr_output_loss: 0.7939 - val_dept_output_accuracy: 0.5169 - val_dept_output_loss: 1.6385 - val_loss: 2.5694\n",
      "Epoch 53/100\n",
      "\u001b[1m30/30\u001b[0m \u001b[32m━━━━━━━━━━━━━━━━━━━━\u001b[0m\u001b[37m\u001b[0m \u001b[1m0s\u001b[0m 2ms/step - attr_output_accuracy: 0.9956 - attr_output_loss: 0.0456 - dept_output_accuracy: 0.9566 - dept_output_loss: 0.1560 - loss: 0.2015 - val_attr_output_accuracy: 0.8220 - val_attr_output_loss: 0.8090 - val_dept_output_accuracy: 0.5297 - val_dept_output_loss: 1.7413 - val_loss: 2.6890\n",
      "Epoch 54/100\n",
      "\u001b[1m30/30\u001b[0m \u001b[32m━━━━━━━━━━━━━━━━━━━━\u001b[0m\u001b[37m\u001b[0m \u001b[1m0s\u001b[0m 2ms/step - attr_output_accuracy: 0.9939 - attr_output_loss: 0.0456 - dept_output_accuracy: 0.9675 - dept_output_loss: 0.1381 - loss: 0.1835 - val_attr_output_accuracy: 0.8347 - val_attr_output_loss: 0.8961 - val_dept_output_accuracy: 0.5169 - val_dept_output_loss: 1.7113 - val_loss: 2.7486\n",
      "Epoch 55/100\n",
      "\u001b[1m30/30\u001b[0m \u001b[32m━━━━━━━━━━━━━━━━━━━━\u001b[0m\u001b[37m\u001b[0m \u001b[1m0s\u001b[0m 2ms/step - attr_output_accuracy: 0.9898 - attr_output_loss: 0.0466 - dept_output_accuracy: 0.9696 - dept_output_loss: 0.1585 - loss: 0.2051 - val_attr_output_accuracy: 0.8220 - val_attr_output_loss: 0.8032 - val_dept_output_accuracy: 0.5127 - val_dept_output_loss: 1.8268 - val_loss: 2.7781\n",
      "Epoch 56/100\n",
      "\u001b[1m30/30\u001b[0m \u001b[32m━━━━━━━━━━━━━━━━━━━━\u001b[0m\u001b[37m\u001b[0m \u001b[1m0s\u001b[0m 2ms/step - attr_output_accuracy: 0.9965 - attr_output_loss: 0.0407 - dept_output_accuracy: 0.9641 - dept_output_loss: 0.1434 - loss: 0.1843 - val_attr_output_accuracy: 0.8220 - val_attr_output_loss: 0.8944 - val_dept_output_accuracy: 0.5466 - val_dept_output_loss: 1.8978 - val_loss: 2.9404\n",
      "Epoch 57/100\n",
      "\u001b[1m30/30\u001b[0m \u001b[32m━━━━━━━━━━━━━━━━━━━━\u001b[0m\u001b[37m\u001b[0m \u001b[1m0s\u001b[0m 2ms/step - attr_output_accuracy: 0.9942 - attr_output_loss: 0.0382 - dept_output_accuracy: 0.9596 - dept_output_loss: 0.1339 - loss: 0.1721 - val_attr_output_accuracy: 0.8263 - val_attr_output_loss: 0.8884 - val_dept_output_accuracy: 0.5339 - val_dept_output_loss: 1.8689 - val_loss: 2.9089\n",
      "Epoch 58/100\n",
      "\u001b[1m30/30\u001b[0m \u001b[32m━━━━━━━━━━━━━━━━━━━━\u001b[0m\u001b[37m\u001b[0m \u001b[1m0s\u001b[0m 2ms/step - attr_output_accuracy: 0.9890 - attr_output_loss: 0.0397 - dept_output_accuracy: 0.9690 - dept_output_loss: 0.1369 - loss: 0.1766 - val_attr_output_accuracy: 0.8263 - val_attr_output_loss: 0.9322 - val_dept_output_accuracy: 0.5466 - val_dept_output_loss: 1.9414 - val_loss: 3.0232\n",
      "Epoch 59/100\n",
      "\u001b[1m30/30\u001b[0m \u001b[32m━━━━━━━━━━━━━━━━━━━━\u001b[0m\u001b[37m\u001b[0m \u001b[1m0s\u001b[0m 2ms/step - attr_output_accuracy: 0.9965 - attr_output_loss: 0.0347 - dept_output_accuracy: 0.9455 - dept_output_loss: 0.1513 - loss: 0.1860 - val_attr_output_accuracy: 0.8220 - val_attr_output_loss: 0.8725 - val_dept_output_accuracy: 0.5085 - val_dept_output_loss: 1.9237 - val_loss: 2.9436\n",
      "Epoch 60/100\n",
      "\u001b[1m30/30\u001b[0m \u001b[32m━━━━━━━━━━━━━━━━━━━━\u001b[0m\u001b[37m\u001b[0m \u001b[1m0s\u001b[0m 3ms/step - attr_output_accuracy: 0.9916 - attr_output_loss: 0.0381 - dept_output_accuracy: 0.9586 - dept_output_loss: 0.1443 - loss: 0.1825 - val_attr_output_accuracy: 0.8136 - val_attr_output_loss: 0.9307 - val_dept_output_accuracy: 0.5127 - val_dept_output_loss: 1.9131 - val_loss: 2.9969\n",
      "Epoch 61/100\n",
      "\u001b[1m30/30\u001b[0m \u001b[32m━━━━━━━━━━━━━━━━━━━━\u001b[0m\u001b[37m\u001b[0m \u001b[1m0s\u001b[0m 2ms/step - attr_output_accuracy: 0.9921 - attr_output_loss: 0.0372 - dept_output_accuracy: 0.9814 - dept_output_loss: 0.1087 - loss: 0.1460 - val_attr_output_accuracy: 0.8220 - val_attr_output_loss: 0.9181 - val_dept_output_accuracy: 0.5424 - val_dept_output_loss: 1.9622 - val_loss: 3.0363\n",
      "Epoch 62/100\n",
      "\u001b[1m30/30\u001b[0m \u001b[32m━━━━━━━━━━━━━━━━━━━━\u001b[0m\u001b[37m\u001b[0m \u001b[1m0s\u001b[0m 3ms/step - attr_output_accuracy: 0.9971 - attr_output_loss: 0.0279 - dept_output_accuracy: 0.9794 - dept_output_loss: 0.1022 - loss: 0.1303 - val_attr_output_accuracy: 0.8220 - val_attr_output_loss: 0.9797 - val_dept_output_accuracy: 0.5254 - val_dept_output_loss: 1.9989 - val_loss: 3.1435\n",
      "Epoch 63/100\n",
      "\u001b[1m30/30\u001b[0m \u001b[32m━━━━━━━━━━━━━━━━━━━━\u001b[0m\u001b[37m\u001b[0m \u001b[1m0s\u001b[0m 2ms/step - attr_output_accuracy: 0.9937 - attr_output_loss: 0.0331 - dept_output_accuracy: 0.9829 - dept_output_loss: 0.0937 - loss: 0.1269 - val_attr_output_accuracy: 0.8008 - val_attr_output_loss: 0.9502 - val_dept_output_accuracy: 0.5339 - val_dept_output_loss: 2.0403 - val_loss: 3.1452\n",
      "Epoch 64/100\n",
      "\u001b[1m30/30\u001b[0m \u001b[32m━━━━━━━━━━━━━━━━━━━━\u001b[0m\u001b[37m\u001b[0m \u001b[1m0s\u001b[0m 2ms/step - attr_output_accuracy: 0.9950 - attr_output_loss: 0.0277 - dept_output_accuracy: 0.9826 - dept_output_loss: 0.0968 - loss: 0.1245 - val_attr_output_accuracy: 0.8220 - val_attr_output_loss: 0.9644 - val_dept_output_accuracy: 0.5169 - val_dept_output_loss: 2.0131 - val_loss: 3.1466\n",
      "Epoch 65/100\n",
      "\u001b[1m30/30\u001b[0m \u001b[32m━━━━━━━━━━━━━━━━━━━━\u001b[0m\u001b[37m\u001b[0m \u001b[1m0s\u001b[0m 2ms/step - attr_output_accuracy: 0.9938 - attr_output_loss: 0.0260 - dept_output_accuracy: 0.9817 - dept_output_loss: 0.0910 - loss: 0.1170 - val_attr_output_accuracy: 0.8136 - val_attr_output_loss: 0.9718 - val_dept_output_accuracy: 0.5212 - val_dept_output_loss: 2.1225 - val_loss: 3.2612\n",
      "Epoch 66/100\n",
      "\u001b[1m30/30\u001b[0m \u001b[32m━━━━━━━━━━━━━━━━━━━━\u001b[0m\u001b[37m\u001b[0m \u001b[1m0s\u001b[0m 2ms/step - attr_output_accuracy: 0.9977 - attr_output_loss: 0.0190 - dept_output_accuracy: 0.9848 - dept_output_loss: 0.0897 - loss: 0.1088 - val_attr_output_accuracy: 0.8220 - val_attr_output_loss: 1.0639 - val_dept_output_accuracy: 0.5085 - val_dept_output_loss: 2.1371 - val_loss: 3.3739\n",
      "Epoch 67/100\n",
      "\u001b[1m30/30\u001b[0m \u001b[32m━━━━━━━━━━━━━━━━━━━━\u001b[0m\u001b[37m\u001b[0m \u001b[1m0s\u001b[0m 2ms/step - attr_output_accuracy: 0.9960 - attr_output_loss: 0.0214 - dept_output_accuracy: 0.9879 - dept_output_loss: 0.0809 - loss: 0.1022 - val_attr_output_accuracy: 0.8220 - val_attr_output_loss: 1.0534 - val_dept_output_accuracy: 0.5254 - val_dept_output_loss: 2.1365 - val_loss: 3.3709\n",
      "Epoch 68/100\n",
      "\u001b[1m30/30\u001b[0m \u001b[32m━━━━━━━━━━━━━━━━━━━━\u001b[0m\u001b[37m\u001b[0m \u001b[1m0s\u001b[0m 3ms/step - attr_output_accuracy: 0.9902 - attr_output_loss: 0.0326 - dept_output_accuracy: 0.9920 - dept_output_loss: 0.0777 - loss: 0.1102 - val_attr_output_accuracy: 0.8178 - val_attr_output_loss: 0.9601 - val_dept_output_accuracy: 0.5254 - val_dept_output_loss: 2.1490 - val_loss: 3.2875\n",
      "Epoch 69/100\n",
      "\u001b[1m30/30\u001b[0m \u001b[32m━━━━━━━━━━━━━━━━━━━━\u001b[0m\u001b[37m\u001b[0m \u001b[1m0s\u001b[0m 2ms/step - attr_output_accuracy: 0.9989 - attr_output_loss: 0.0206 - dept_output_accuracy: 0.9881 - dept_output_loss: 0.0719 - loss: 0.0926 - val_attr_output_accuracy: 0.8136 - val_attr_output_loss: 1.0281 - val_dept_output_accuracy: 0.5212 - val_dept_output_loss: 2.2179 - val_loss: 3.4408\n",
      "Epoch 70/100\n",
      "\u001b[1m30/30\u001b[0m \u001b[32m━━━━━━━━━━━━━━━━━━━━\u001b[0m\u001b[37m\u001b[0m \u001b[1m0s\u001b[0m 2ms/step - attr_output_accuracy: 0.9990 - attr_output_loss: 0.0197 - dept_output_accuracy: 0.9841 - dept_output_loss: 0.0746 - loss: 0.0941 - val_attr_output_accuracy: 0.8093 - val_attr_output_loss: 0.9986 - val_dept_output_accuracy: 0.5169 - val_dept_output_loss: 2.3168 - val_loss: 3.5037\n",
      "Epoch 71/100\n",
      "\u001b[1m30/30\u001b[0m \u001b[32m━━━━━━━━━━━━━━━━━━━━\u001b[0m\u001b[37m\u001b[0m \u001b[1m0s\u001b[0m 2ms/step - attr_output_accuracy: 0.9986 - attr_output_loss: 0.0178 - dept_output_accuracy: 0.9957 - dept_output_loss: 0.0647 - loss: 0.0825 - val_attr_output_accuracy: 0.8178 - val_attr_output_loss: 1.0921 - val_dept_output_accuracy: 0.5254 - val_dept_output_loss: 2.3062 - val_loss: 3.5888\n",
      "Epoch 72/100\n",
      "\u001b[1m30/30\u001b[0m \u001b[32m━━━━━━━━━━━━━━━━━━━━\u001b[0m\u001b[37m\u001b[0m \u001b[1m0s\u001b[0m 2ms/step - attr_output_accuracy: 0.9993 - attr_output_loss: 0.0152 - dept_output_accuracy: 0.9940 - dept_output_loss: 0.0586 - loss: 0.0738 - val_attr_output_accuracy: 0.8093 - val_attr_output_loss: 1.0535 - val_dept_output_accuracy: 0.5297 - val_dept_output_loss: 2.3131 - val_loss: 3.5612\n",
      "Epoch 73/100\n",
      "\u001b[1m30/30\u001b[0m \u001b[32m━━━━━━━━━━━━━━━━━━━━\u001b[0m\u001b[37m\u001b[0m \u001b[1m0s\u001b[0m 2ms/step - attr_output_accuracy: 0.9996 - attr_output_loss: 0.0129 - dept_output_accuracy: 0.9983 - dept_output_loss: 0.0524 - loss: 0.0652 - val_attr_output_accuracy: 0.8051 - val_attr_output_loss: 1.0926 - val_dept_output_accuracy: 0.5297 - val_dept_output_loss: 2.3852 - val_loss: 3.6647\n",
      "Epoch 74/100\n",
      "\u001b[1m30/30\u001b[0m \u001b[32m━━━━━━━━━━━━━━━━━━━━\u001b[0m\u001b[37m\u001b[0m \u001b[1m0s\u001b[0m 2ms/step - attr_output_accuracy: 0.9989 - attr_output_loss: 0.0135 - dept_output_accuracy: 0.9919 - dept_output_loss: 0.0596 - loss: 0.0732 - val_attr_output_accuracy: 0.8136 - val_attr_output_loss: 1.0365 - val_dept_output_accuracy: 0.5508 - val_dept_output_loss: 2.3267 - val_loss: 3.5646\n",
      "Epoch 75/100\n",
      "\u001b[1m30/30\u001b[0m \u001b[32m━━━━━━━━━━━━━━━━━━━━\u001b[0m\u001b[37m\u001b[0m \u001b[1m0s\u001b[0m 2ms/step - attr_output_accuracy: 0.9991 - attr_output_loss: 0.0149 - dept_output_accuracy: 0.9929 - dept_output_loss: 0.0562 - loss: 0.0711 - val_attr_output_accuracy: 0.8051 - val_attr_output_loss: 1.1535 - val_dept_output_accuracy: 0.5381 - val_dept_output_loss: 2.3745 - val_loss: 3.7303\n",
      "Epoch 76/100\n",
      "\u001b[1m30/30\u001b[0m \u001b[32m━━━━━━━━━━━━━━━━━━━━\u001b[0m\u001b[37m\u001b[0m \u001b[1m0s\u001b[0m 2ms/step - attr_output_accuracy: 0.9982 - attr_output_loss: 0.0141 - dept_output_accuracy: 0.9962 - dept_output_loss: 0.0521 - loss: 0.0662 - val_attr_output_accuracy: 0.8178 - val_attr_output_loss: 1.1376 - val_dept_output_accuracy: 0.5424 - val_dept_output_loss: 2.4284 - val_loss: 3.7696\n",
      "Epoch 77/100\n",
      "\u001b[1m30/30\u001b[0m \u001b[32m━━━━━━━━━━━━━━━━━━━━\u001b[0m\u001b[37m\u001b[0m \u001b[1m0s\u001b[0m 2ms/step - attr_output_accuracy: 0.9982 - attr_output_loss: 0.0156 - dept_output_accuracy: 0.9967 - dept_output_loss: 0.0441 - loss: 0.0597 - val_attr_output_accuracy: 0.8305 - val_attr_output_loss: 1.1177 - val_dept_output_accuracy: 0.5424 - val_dept_output_loss: 2.3853 - val_loss: 3.7003\n",
      "Epoch 78/100\n",
      "\u001b[1m30/30\u001b[0m \u001b[32m━━━━━━━━━━━━━━━━━━━━\u001b[0m\u001b[37m\u001b[0m \u001b[1m0s\u001b[0m 2ms/step - attr_output_accuracy: 0.9991 - attr_output_loss: 0.0140 - dept_output_accuracy: 0.9941 - dept_output_loss: 0.0394 - loss: 0.0533 - val_attr_output_accuracy: 0.8136 - val_attr_output_loss: 1.2407 - val_dept_output_accuracy: 0.5424 - val_dept_output_loss: 2.4807 - val_loss: 3.9307\n",
      "Epoch 79/100\n",
      "\u001b[1m30/30\u001b[0m \u001b[32m━━━━━━━━━━━━━━━━━━━━\u001b[0m\u001b[37m\u001b[0m \u001b[1m0s\u001b[0m 2ms/step - attr_output_accuracy: 0.9968 - attr_output_loss: 0.0217 - dept_output_accuracy: 0.9972 - dept_output_loss: 0.0427 - loss: 0.0645 - val_attr_output_accuracy: 0.8093 - val_attr_output_loss: 1.2541 - val_dept_output_accuracy: 0.5212 - val_dept_output_loss: 2.4728 - val_loss: 3.9261\n",
      "Epoch 80/100\n",
      "\u001b[1m30/30\u001b[0m \u001b[32m━━━━━━━━━━━━━━━━━━━━\u001b[0m\u001b[37m\u001b[0m \u001b[1m0s\u001b[0m 2ms/step - attr_output_accuracy: 1.0000 - attr_output_loss: 0.0144 - dept_output_accuracy: 0.9929 - dept_output_loss: 0.0477 - loss: 0.0621 - val_attr_output_accuracy: 0.7966 - val_attr_output_loss: 1.1682 - val_dept_output_accuracy: 0.5085 - val_dept_output_loss: 2.6183 - val_loss: 3.9823\n",
      "Epoch 81/100\n",
      "\u001b[1m30/30\u001b[0m \u001b[32m━━━━━━━━━━━━━━━━━━━━\u001b[0m\u001b[37m\u001b[0m \u001b[1m0s\u001b[0m 2ms/step - attr_output_accuracy: 1.0000 - attr_output_loss: 0.0129 - dept_output_accuracy: 0.9971 - dept_output_loss: 0.0367 - loss: 0.0496 - val_attr_output_accuracy: 0.8136 - val_attr_output_loss: 1.2220 - val_dept_output_accuracy: 0.5424 - val_dept_output_loss: 2.5850 - val_loss: 4.0236\n",
      "Epoch 82/100\n",
      "\u001b[1m30/30\u001b[0m \u001b[32m━━━━━━━━━━━━━━━━━━━━\u001b[0m\u001b[37m\u001b[0m \u001b[1m0s\u001b[0m 2ms/step - attr_output_accuracy: 0.9993 - attr_output_loss: 0.0102 - dept_output_accuracy: 0.9963 - dept_output_loss: 0.0444 - loss: 0.0546 - val_attr_output_accuracy: 0.8136 - val_attr_output_loss: 1.2781 - val_dept_output_accuracy: 0.5297 - val_dept_output_loss: 2.7297 - val_loss: 4.2252\n",
      "Epoch 83/100\n",
      "\u001b[1m30/30\u001b[0m \u001b[32m━━━━━━━━━━━━━━━━━━━━\u001b[0m\u001b[37m\u001b[0m \u001b[1m0s\u001b[0m 2ms/step - attr_output_accuracy: 0.9993 - attr_output_loss: 0.0095 - dept_output_accuracy: 0.9975 - dept_output_loss: 0.0391 - loss: 0.0486 - val_attr_output_accuracy: 0.8093 - val_attr_output_loss: 1.1863 - val_dept_output_accuracy: 0.5339 - val_dept_output_loss: 2.6388 - val_loss: 4.0491\n",
      "Epoch 84/100\n",
      "\u001b[1m30/30\u001b[0m \u001b[32m━━━━━━━━━━━━━━━━━━━━\u001b[0m\u001b[37m\u001b[0m \u001b[1m0s\u001b[0m 2ms/step - attr_output_accuracy: 1.0000 - attr_output_loss: 0.0097 - dept_output_accuracy: 0.9902 - dept_output_loss: 0.0495 - loss: 0.0591 - val_attr_output_accuracy: 0.8136 - val_attr_output_loss: 1.2590 - val_dept_output_accuracy: 0.5254 - val_dept_output_loss: 2.6593 - val_loss: 4.1373\n",
      "Epoch 85/100\n",
      "\u001b[1m30/30\u001b[0m \u001b[32m━━━━━━━━━━━━━━━━━━━━\u001b[0m\u001b[37m\u001b[0m \u001b[1m0s\u001b[0m 2ms/step - attr_output_accuracy: 0.9976 - attr_output_loss: 0.0123 - dept_output_accuracy: 0.9925 - dept_output_loss: 0.0411 - loss: 0.0535 - val_attr_output_accuracy: 0.8051 - val_attr_output_loss: 1.3118 - val_dept_output_accuracy: 0.5381 - val_dept_output_loss: 2.7253 - val_loss: 4.2565\n",
      "Epoch 86/100\n",
      "\u001b[1m30/30\u001b[0m \u001b[32m━━━━━━━━━━━━━━━━━━━━\u001b[0m\u001b[37m\u001b[0m \u001b[1m0s\u001b[0m 2ms/step - attr_output_accuracy: 0.9986 - attr_output_loss: 0.0091 - dept_output_accuracy: 0.9952 - dept_output_loss: 0.0335 - loss: 0.0426 - val_attr_output_accuracy: 0.8136 - val_attr_output_loss: 1.2799 - val_dept_output_accuracy: 0.5297 - val_dept_output_loss: 2.8091 - val_loss: 4.3194\n",
      "Epoch 87/100\n",
      "\u001b[1m30/30\u001b[0m \u001b[32m━━━━━━━━━━━━━━━━━━━━\u001b[0m\u001b[37m\u001b[0m \u001b[1m0s\u001b[0m 2ms/step - attr_output_accuracy: 0.9990 - attr_output_loss: 0.0099 - dept_output_accuracy: 0.9986 - dept_output_loss: 0.0308 - loss: 0.0407 - val_attr_output_accuracy: 0.8051 - val_attr_output_loss: 1.4028 - val_dept_output_accuracy: 0.5169 - val_dept_output_loss: 2.7798 - val_loss: 4.4096\n",
      "Epoch 88/100\n",
      "\u001b[1m30/30\u001b[0m \u001b[32m━━━━━━━━━━━━━━━━━━━━\u001b[0m\u001b[37m\u001b[0m \u001b[1m0s\u001b[0m 2ms/step - attr_output_accuracy: 0.9991 - attr_output_loss: 0.0108 - dept_output_accuracy: 0.9993 - dept_output_loss: 0.0285 - loss: 0.0393 - val_attr_output_accuracy: 0.8136 - val_attr_output_loss: 1.2962 - val_dept_output_accuracy: 0.5508 - val_dept_output_loss: 2.8105 - val_loss: 4.3305\n",
      "Epoch 89/100\n",
      "\u001b[1m30/30\u001b[0m \u001b[32m━━━━━━━━━━━━━━━━━━━━\u001b[0m\u001b[37m\u001b[0m \u001b[1m0s\u001b[0m 2ms/step - attr_output_accuracy: 0.9963 - attr_output_loss: 0.0203 - dept_output_accuracy: 0.9928 - dept_output_loss: 0.0360 - loss: 0.0563 - val_attr_output_accuracy: 0.7966 - val_attr_output_loss: 1.2783 - val_dept_output_accuracy: 0.5424 - val_dept_output_loss: 2.7308 - val_loss: 4.2337\n",
      "Epoch 90/100\n",
      "\u001b[1m30/30\u001b[0m \u001b[32m━━━━━━━━━━━━━━━━━━━━\u001b[0m\u001b[37m\u001b[0m \u001b[1m0s\u001b[0m 3ms/step - attr_output_accuracy: 0.9977 - attr_output_loss: 0.0098 - dept_output_accuracy: 0.9963 - dept_output_loss: 0.0278 - loss: 0.0376 - val_attr_output_accuracy: 0.8008 - val_attr_output_loss: 1.3007 - val_dept_output_accuracy: 0.5508 - val_dept_output_loss: 2.7968 - val_loss: 4.3346\n",
      "Epoch 91/100\n",
      "\u001b[1m30/30\u001b[0m \u001b[32m━━━━━━━━━━━━━━━━━━━━\u001b[0m\u001b[37m\u001b[0m \u001b[1m0s\u001b[0m 2ms/step - attr_output_accuracy: 1.0000 - attr_output_loss: 0.0092 - dept_output_accuracy: 0.9946 - dept_output_loss: 0.0330 - loss: 0.0422 - val_attr_output_accuracy: 0.8220 - val_attr_output_loss: 1.3166 - val_dept_output_accuracy: 0.5424 - val_dept_output_loss: 2.9638 - val_loss: 4.5164\n",
      "Epoch 92/100\n",
      "\u001b[1m30/30\u001b[0m \u001b[32m━━━━━━━━━━━━━━━━━━━━\u001b[0m\u001b[37m\u001b[0m \u001b[1m0s\u001b[0m 2ms/step - attr_output_accuracy: 0.9994 - attr_output_loss: 0.0070 - dept_output_accuracy: 0.9930 - dept_output_loss: 0.0417 - loss: 0.0487 - val_attr_output_accuracy: 0.7966 - val_attr_output_loss: 1.3475 - val_dept_output_accuracy: 0.5678 - val_dept_output_loss: 3.0459 - val_loss: 4.6130\n",
      "Epoch 93/100\n",
      "\u001b[1m30/30\u001b[0m \u001b[32m━━━━━━━━━━━━━━━━━━━━\u001b[0m\u001b[37m\u001b[0m \u001b[1m0s\u001b[0m 2ms/step - attr_output_accuracy: 0.9993 - attr_output_loss: 0.0113 - dept_output_accuracy: 0.9850 - dept_output_loss: 0.0590 - loss: 0.0704 - val_attr_output_accuracy: 0.8051 - val_attr_output_loss: 1.3311 - val_dept_output_accuracy: 0.5381 - val_dept_output_loss: 2.9491 - val_loss: 4.5025\n",
      "Epoch 94/100\n",
      "\u001b[1m30/30\u001b[0m \u001b[32m━━━━━━━━━━━━━━━━━━━━\u001b[0m\u001b[37m\u001b[0m \u001b[1m0s\u001b[0m 2ms/step - attr_output_accuracy: 1.0000 - attr_output_loss: 0.0066 - dept_output_accuracy: 0.9917 - dept_output_loss: 0.0443 - loss: 0.0510 - val_attr_output_accuracy: 0.8136 - val_attr_output_loss: 1.3691 - val_dept_output_accuracy: 0.5212 - val_dept_output_loss: 2.8992 - val_loss: 4.4859\n",
      "Epoch 95/100\n",
      "\u001b[1m30/30\u001b[0m \u001b[32m━━━━━━━━━━━━━━━━━━━━\u001b[0m\u001b[37m\u001b[0m \u001b[1m0s\u001b[0m 5ms/step - attr_output_accuracy: 1.0000 - attr_output_loss: 0.0053 - dept_output_accuracy: 0.9983 - dept_output_loss: 0.0308 - loss: 0.0362 - val_attr_output_accuracy: 0.8051 - val_attr_output_loss: 1.4045 - val_dept_output_accuracy: 0.5169 - val_dept_output_loss: 2.9502 - val_loss: 4.5949\n",
      "Epoch 96/100\n",
      "\u001b[1m30/30\u001b[0m \u001b[32m━━━━━━━━━━━━━━━━━━━━\u001b[0m\u001b[37m\u001b[0m \u001b[1m0s\u001b[0m 2ms/step - attr_output_accuracy: 1.0000 - attr_output_loss: 0.0049 - dept_output_accuracy: 0.9980 - dept_output_loss: 0.0229 - loss: 0.0278 - val_attr_output_accuracy: 0.8051 - val_attr_output_loss: 1.3595 - val_dept_output_accuracy: 0.5424 - val_dept_output_loss: 3.0316 - val_loss: 4.6345\n",
      "Epoch 97/100\n",
      "\u001b[1m30/30\u001b[0m \u001b[32m━━━━━━━━━━━━━━━━━━━━\u001b[0m\u001b[37m\u001b[0m \u001b[1m0s\u001b[0m 2ms/step - attr_output_accuracy: 1.0000 - attr_output_loss: 0.0045 - dept_output_accuracy: 0.9999 - dept_output_loss: 0.0206 - loss: 0.0251 - val_attr_output_accuracy: 0.8008 - val_attr_output_loss: 1.3650 - val_dept_output_accuracy: 0.5297 - val_dept_output_loss: 2.9830 - val_loss: 4.5797\n",
      "Epoch 98/100\n",
      "\u001b[1m30/30\u001b[0m \u001b[32m━━━━━━━━━━━━━━━━━━━━\u001b[0m\u001b[37m\u001b[0m \u001b[1m0s\u001b[0m 2ms/step - attr_output_accuracy: 1.0000 - attr_output_loss: 0.0086 - dept_output_accuracy: 0.9984 - dept_output_loss: 0.0202 - loss: 0.0288 - val_attr_output_accuracy: 0.8008 - val_attr_output_loss: 1.4284 - val_dept_output_accuracy: 0.5381 - val_dept_output_loss: 3.0379 - val_loss: 4.7166\n",
      "Epoch 99/100\n",
      "\u001b[1m30/30\u001b[0m \u001b[32m━━━━━━━━━━━━━━━━━━━━\u001b[0m\u001b[37m\u001b[0m \u001b[1m0s\u001b[0m 2ms/step - attr_output_accuracy: 0.9994 - attr_output_loss: 0.0045 - dept_output_accuracy: 0.9981 - dept_output_loss: 0.0264 - loss: 0.0308 - val_attr_output_accuracy: 0.8051 - val_attr_output_loss: 1.4225 - val_dept_output_accuracy: 0.5381 - val_dept_output_loss: 3.0437 - val_loss: 4.7129\n",
      "Epoch 100/100\n",
      "\u001b[1m30/30\u001b[0m \u001b[32m━━━━━━━━━━━━━━━━━━━━\u001b[0m\u001b[37m\u001b[0m \u001b[1m0s\u001b[0m 2ms/step - attr_output_accuracy: 1.0000 - attr_output_loss: 0.0051 - dept_output_accuracy: 1.0000 - dept_output_loss: 0.0170 - loss: 0.0221 - val_attr_output_accuracy: 0.8008 - val_attr_output_loss: 1.4097 - val_dept_output_accuracy: 0.5297 - val_dept_output_loss: 3.0762 - val_loss: 4.7345\n"
     ]
    },
    {
     "data": {
      "text/plain": [
       "<keras.src.callbacks.history.History at 0x1755cfc10>"
      ]
     },
     "execution_count": 24,
     "metadata": {},
     "output_type": "execute_result"
    }
   ],
   "source": [
    "# Train the model\n",
    "model.fit(X_train_scaled, [encoded_attr_train, encoded_dept_train], epochs=100, batch_size=32, validation_split=0.2)"
   ]
  },
  {
   "cell_type": "code",
   "execution_count": null,
   "metadata": {},
   "outputs": [],
   "source": []
  },
  {
   "cell_type": "code",
   "execution_count": 25,
   "metadata": {
    "colab": {
     "base_uri": "https://localhost:8080/"
    },
    "executionInfo": {
     "elapsed": 379,
     "status": "ok",
     "timestamp": 1730699259894,
     "user": {
      "displayName": "Alexander Booth",
      "userId": "02269714993535573104"
     },
     "user_tz": 360
    },
    "id": "VsMoaQlgGc3U",
    "outputId": "636c85ba-ee63-4087-b7d1-00b408f1055a"
   },
   "outputs": [
    {
     "name": "stdout",
     "output_type": "stream",
     "text": [
      "\u001b[1m10/10\u001b[0m \u001b[32m━━━━━━━━━━━━━━━━━━━━\u001b[0m\u001b[37m\u001b[0m \u001b[1m0s\u001b[0m 2ms/step - attr_output_accuracy: 0.7963 - attr_output_loss: 1.7640 - dept_output_accuracy: 0.5215 - dept_output_loss: 3.1057 - loss: 4.8879 \n"
     ]
    },
    {
     "data": {
      "text/plain": [
       "[4.704395294189453,\n",
       " 1.5993772745132446,\n",
       " 3.0047965049743652,\n",
       " 0.7823129296302795,\n",
       " 0.5510203838348389]"
      ]
     },
     "execution_count": 25,
     "metadata": {},
     "output_type": "execute_result"
    }
   ],
   "source": [
    "# Evaluate the model with the testing data\n",
    "model.evaluate(X_test_scaled, [encoded_attr_test, encoded_dept_test])"
   ]
  },
  {
   "cell_type": "code",
   "execution_count": 27,
   "metadata": {
    "colab": {
     "base_uri": "https://localhost:8080/"
    },
    "executionInfo": {
     "elapsed": 113,
     "status": "ok",
     "timestamp": 1730699260004,
     "user": {
      "displayName": "Alexander Booth",
      "userId": "02269714993535573104"
     },
     "user_tz": 360
    },
    "id": "ZlCtlHi0Vt54",
    "outputId": "3a32435c-11cf-48da-81b5-1431d6c00da2"
   },
   "outputs": [
    {
     "name": "stdout",
     "output_type": "stream",
     "text": [
      "\u001b[1m10/10\u001b[0m \u001b[32m━━━━━━━━━━━━━━━━━━━━\u001b[0m\u001b[37m\u001b[0m \u001b[1m0s\u001b[0m 2ms/step - attr_output_accuracy: 0.7963 - attr_output_loss: 1.7640 - dept_output_accuracy: 0.5215 - dept_output_loss: 3.1057 - loss: 4.8879  \n",
      "Department accuracy: 0.5510203838348389\n",
      "Attrition accuracy: 0.7823129296302795\n"
     ]
    }
   ],
   "source": [
    "# Print the accuracy for both department and attrition\n",
    "# Evaluate the model with the testing data\n",
    "loss, attr_loss, dept_loss, attr_accuracy, dept_accuracy = model.evaluate(X_test_scaled, [encoded_attr_test, encoded_dept_test])\n",
    "\n",
    "# Print the accuracy for both department and attrition\n",
    "print(\"Department accuracy:\", dept_accuracy)\n",
    "print(\"Attrition accuracy:\", attr_accuracy)\n"
   ]
  },
  {
   "cell_type": "markdown",
   "metadata": {
    "id": "eGSyfsZfWOQM"
   },
   "source": [
    "# Summary\n",
    "\n",
    "In the provided space below, briefly answer the following questions.\n",
    "\n",
    "1. Is accuracy the best metric to use on this data? Why or why not?\n",
    "\n",
    "2. What activation functions did you choose for your output layers, and why?\n",
    "\n",
    "3. Can you name a few ways that this model might be improved?"
   ]
  },
  {
   "cell_type": "markdown",
   "metadata": {
    "id": "pi9SLpFnWvbF"
   },
   "source": [
    "YOUR ANSWERS HERE\n",
    "\n",
    "YOUR ANSWERS HERE\n",
    "\n",
    "1. Accuracy might not be the best metric, especially if the dataset is imbalanced. For example, if attrition is a rare event (e.g., 90% of employees stay, 10% leave), a model predicting “no attrition” all the time could still have high accuracy but poor predictive value. In such cases, precision, recall, or F1-score would provide a better understanding of model performance.\n",
    "\n",
    "2. The “Attrition” output has two classes (binary classification: Yes/No), making softmax an alternative to sigmoid for probability distribution across the two classes. The “Department” output has three categories, which necessitates softmax to ensure that the outputs sum to 1, effectively treating it as a multi-class classification problem.\n",
    "\n",
    "3. If the dataset is imbalanced, techniques like oversampling the minority class, undersampling the majority class, or using class-weighted loss functions can improve model performance.\n",
    "Different loss functions: If attrition prediction is more critical, using binary cross-entropy for that branch instead of categorical cross-entropy might help.\n",
    "Feature engineering: Incorporating additional features such as employee performance ratings, salary history, or engagement metrics might provide more insights.\n",
    "Hyperparameter tuning: Experimenting with different numbers of layers, neurons, and optimizers to find the best-performing model.\n",
    "Alternative architectures: Trying separate models for attrition and department classification instead of a multi-output model might yield better results."
   ]
  },
  {
   "cell_type": "code",
   "execution_count": 17,
   "metadata": {
    "executionInfo": {
     "elapsed": 3,
     "status": "ok",
     "timestamp": 1730699260004,
     "user": {
      "displayName": "Alexander Booth",
      "userId": "02269714993535573104"
     },
     "user_tz": 360
    },
    "id": "ZuQWjGgGXZ3C"
   },
   "outputs": [],
   "source": []
  }
 ],
 "metadata": {
  "colab": {
   "provenance": []
  },
  "kernelspec": {
   "display_name": "dev",
   "language": "python",
   "name": "python3"
  },
  "language_info": {
   "codemirror_mode": {
    "name": "ipython",
    "version": 3
   },
   "file_extension": ".py",
   "mimetype": "text/x-python",
   "name": "python",
   "nbconvert_exporter": "python",
   "pygments_lexer": "ipython3",
   "version": "3.11.11"
  }
 },
 "nbformat": 4,
 "nbformat_minor": 0
}
